{
  "nbformat": 4,
  "nbformat_minor": 0,
  "metadata": {
    "colab": {
      "provenance": []
    },
    "kernelspec": {
      "name": "python3",
      "display_name": "Python 3"
    },
    "language_info": {
      "name": "python"
    }
  },
  "cells": [
    {
      "cell_type": "markdown",
      "source": [
        "#OOPS"
      ],
      "metadata": {
        "id": "rPkgEIBqfmdU"
      }
    },
    {
      "cell_type": "markdown",
      "source": [
        "1. What is Object-Oriented Programming (OOP)?\n",
        "-> Object-Oriented Programming (OOP) is a coding approach where software is structured around objects—self-contained units that combine data and behavior—using principles like encapsulation, inheritance, polymorphism, and abstraction to create modular, reusable, and scalable code."
      ],
      "metadata": {
        "id": "bf_cTZbffmUP"
      }
    },
    {
      "cell_type": "markdown",
      "source": [
        "2.  What is a class in OOP?\n",
        "-> In Object-Oriented Programming (OOP), a class is a blueprint for creating objects, encapsulating shared attributes (data) and behaviors (methods) into a single, reusable structure that models real-world entities—such as a Car class with properties like color, speed, and methods like drive()—allowing developers to instantiate multiple objects with unique values but common functionality, thereby promoting modularity, abstraction, and maintainability in code design by enabling inheritance, encapsulation, and polymorphism, which together support scalable software architecture where changes to the class definition automatically propagate to all its instances, reducing redundancy and improving clarity, while also allowing controlled access to internal data through access modifiers and method interfaces, making classes central to building organized, extensible, and secure applications."
      ],
      "metadata": {
        "id": "yWG85XYtfmKR"
      }
    },
    {
      "cell_type": "markdown",
      "source": [
        "3. What is an object in OOP?\n",
        "-> In Object-Oriented Programming (OOP), an **object** is a self-contained instance of a class that encapsulates specific data (state) and functions (behavior), representing real-world entities—such as a `Dog` object with attributes like `breed` and `color`, and methods like `bark()` or `sleep()`—where each object maintains its own identity and interacts with other objects through well-defined interfaces, enabling modularity, abstraction, and reusability in software design by allowing multiple objects to be created from the same class template, each with unique values but shared structure, and facilitating encapsulation by restricting direct access to internal data, thereby promoting secure, scalable, and maintainable code architecture that mirrors complex systems through dynamic interactions among diverse, independently functioning units."
      ],
      "metadata": {
        "id": "YYJKOn4DfmAQ"
      }
    },
    {
      "cell_type": "markdown",
      "source": [
        "4. What is the difference between abstraction and encapsulation?\n",
        "-> In Object-Oriented Programming (OOP), abstraction focuses on *what* an object does by exposing only essential features and hiding complex details, while encapsulation focuses on *how* it works by bundling data and methods within a class and restricting direct access—together forming a powerful duo where abstraction simplifies design and promotes modularity, and encapsulation safeguards internal logic to ensure secure, maintainable, and scalable software systems."
      ],
      "metadata": {
        "id": "i1GfrjGifjp3"
      }
    },
    {
      "cell_type": "markdown",
      "source": [
        "5.  What are dunder methods in Python?\n",
        "-> Dunder methods in Python—short for “double underscore” methods like `__init__`, `__str__`, or `__add__`—are special, built-in functions that enable custom classes to interact seamlessly with Python’s syntax and operations, such as object creation, string representation, and operator overloading."
      ],
      "metadata": {
        "id": "quVvWwbTgsl3"
      }
    },
    {
      "cell_type": "markdown",
      "source": [
        "6.  Explain the concept of inheritance in OOP?\n",
        "-> Inheritance in Object-Oriented Programming (OOP) is a mechanism where a new class, called a subclass, automatically acquires the properties and behaviors of an existing class, known as the superclass, enabling code reuse, hierarchical organization, and extension of functionality without modifying the original class."
      ],
      "metadata": {
        "id": "1DYsxaPxhGeJ"
      }
    },
    {
      "cell_type": "markdown",
      "source": [
        "7. What is polymorphism in OOP?\n",
        "-> Inheritance in Object-Oriented Programming (OOP) allows a class to derive properties and behaviors from another class, enabling code reuse, logical hierarchy, and easier maintenance by extending existing functionality without rewriting it."
      ],
      "metadata": {
        "id": "KLT1RAwShTvA"
      }
    },
    {
      "cell_type": "markdown",
      "source": [
        "8. How is encapsulation achieved in Python?\n",
        "-> Encapsulation in Python is achieved by defining class attributes with access modifiers—using a single underscore `_` for protected members and double underscores `__` for private members—to restrict direct access and control data visibility, often complemented by getter and setter methods for safe interaction."
      ],
      "metadata": {
        "id": "I9ONWwb6hb0Q"
      }
    },
    {
      "cell_type": "markdown",
      "source": [
        "9.  What is a constructor in Python?\n",
        "-> A constructor in Python is a special method named `__init__` that automatically runs when an object is created from a class, initializing its attributes to ensure the object starts in a valid state."
      ],
      "metadata": {
        "id": "ZLiQ4Mqqhk9v"
      }
    },
    {
      "cell_type": "markdown",
      "source": [
        "10. What are class and static methods in Pytho?\n",
        "-> In Python, **class methods** use the `@classmethod` decorator and take `cls` as their first argument to access or modify class-level data, while **static methods** use the `@staticmethod` decorator and behave like regular functions within a class, without access to instance or class-specific data."
      ],
      "metadata": {
        "id": "_geK05YMhkze"
      }
    },
    {
      "cell_type": "markdown",
      "source": [
        "11.  What is method overloading in Python?\n",
        "-> Method overloading in Python refers to the ability to define a method that behaves differently based on the number or type of arguments passed, typically achieved using techniques like default parameters, `*args`, `**kwargs`, or external libraries like `multipledispatch`, since Python does not support traditional overloading natively."
      ],
      "metadata": {
        "id": "CCV4XRdDhrx9"
      }
    },
    {
      "cell_type": "markdown",
      "source": [
        "12. What is method overriding in OOP?\n",
        "-> Method overriding in Object-Oriented Programming (OOP) is when a subclass provides a specific implementation of a method already defined in its superclass, using the same method signature to enable dynamic polymorphism and customize behavior for the subclass."
      ],
      "metadata": {
        "id": "Fv7_ysGehrtm"
      }
    },
    {
      "cell_type": "markdown",
      "source": [
        "13. What is a property decorator in Python?\n",
        "-> In Python, the `@property` decorator allows you to define methods that can be accessed like attributes, enabling controlled access to private variables through getter, setter, and deleter functions while keeping the syntax clean and intuitive."
      ],
      "metadata": {
        "id": "nFiVI238iC8H"
      }
    },
    {
      "cell_type": "markdown",
      "source": [
        "14. Why is polymorphism important in OOP?\n",
        "-> Polymorphism is important in Object-Oriented Programming because it enables a single interface to represent multiple underlying forms, allowing flexible code that can handle different object types seamlessly, thereby enhancing reusability, scalability, and maintainability."
      ],
      "metadata": {
        "id": "ZcgNZQCih7dK"
      }
    },
    {
      "cell_type": "markdown",
      "source": [
        "15.  What is an abstract class in Python?\n",
        "-> An abstract class in Python is a blueprint for other classes, defined using the `abc` module, that cannot be instantiated on its own and includes abstract methods which must be implemented by any subclass, ensuring a consistent interface across related classes."
      ],
      "metadata": {
        "id": "0vxY3qN4h7UK"
      }
    },
    {
      "cell_type": "markdown",
      "source": [
        "16. What are the advantages of OOP?\n",
        "-> Object-Oriented Programming (OOP) offers advantages like modularity, code reusability through inheritance, flexibility via polymorphism, secure data handling through encapsulation, and simplified maintenance and scalability by organizing software around real-world entities and interactions."
      ],
      "metadata": {
        "id": "9BCVmHijhkqG"
      }
    },
    {
      "cell_type": "markdown",
      "source": [
        "17. What is the difference between a class variable and an instance variable?\n",
        "-> In Python, a **class variable** is shared across all instances of a class and defined directly within the class body, while an **instance variable** is unique to each object and defined inside methods using `self`, allowing each instance to maintain its own state independently."
      ],
      "metadata": {
        "id": "4raid7fIiacH"
      }
    },
    {
      "cell_type": "markdown",
      "source": [
        "18. What is multiple inheritance in Python?\n",
        "-> Multiple inheritance in Python is a feature that allows a class to inherit attributes and methods from more than one parent class, enabling the combination of functionalities from multiple sources into a single subclass."
      ],
      "metadata": {
        "id": "Hytrur8XiiXr"
      }
    },
    {
      "cell_type": "markdown",
      "source": [
        "19. Explain the purpose of ‘’__str__’ and ‘__repr__’ ‘ methods in Python.\n",
        "-> In Python, the `__str__` method returns a user-friendly string representation of an object for display purposes, while the `__repr__` method provides a detailed, unambiguous representation aimed at developers, often resembling valid Python code to recreate the object."
      ],
      "metadata": {
        "id": "KM_xanBGijd0"
      }
    },
    {
      "cell_type": "markdown",
      "source": [
        "20. What is the significance of the ‘super()’ function in Python?\n",
        "-> The `super()` function in Python is significant because it allows subclasses to access and invoke methods from their parent class, enabling code reuse, proper initialization in inheritance hierarchies, and cleaner, more maintainable object-oriented designs."
      ],
      "metadata": {
        "id": "pMYsUUdyiaTL"
      }
    },
    {
      "cell_type": "markdown",
      "source": [
        "21. What is the significance of the __del__ method in Python?\n",
        "-> The `__del__` method in Python is a special destructor method that is called when an object is about to be destroyed, allowing for cleanup actions like releasing resources, though its use is generally discouraged due to unpredictable execution timing."
      ],
      "metadata": {
        "id": "0D3FO_DmjLCP"
      }
    },
    {
      "cell_type": "markdown",
      "source": [
        "22. What is the difference between @staticmethod and @classmethod in Python?\n",
        "-> In Python, `@staticmethod` defines a method that belongs to a class but doesn’t access or modify class or instance data, while `@classmethod` defines a method that receives the class (`cls`) as its first argument, allowing access to and modification of class-level attributes and behavior."
      ],
      "metadata": {
        "id": "EmudcXmXjK7N"
      }
    },
    {
      "cell_type": "markdown",
      "source": [
        "23.  How does polymorphism work in Python with inheritance?\n",
        "-> Polymorphism in Python works with inheritance by allowing subclasses to override methods from a parent class, so that the same method call can execute different behaviors depending on the object's class, enabling flexible and dynamic code execution."
      ],
      "metadata": {
        "id": "a7X7oQSZjKdW"
      }
    },
    {
      "cell_type": "markdown",
      "source": [
        "24.  What is method chaining in Python OOP?\n",
        "-> Method chaining in Python OOP is a programming technique where multiple methods are called sequentially on the same object in a single line, with each method returning the object itself (`self`), enabling fluent, readable, and concise code execution."
      ],
      "metadata": {
        "id": "p0ogpR9MiLz8"
      }
    },
    {
      "cell_type": "markdown",
      "source": [
        "25.  What is the purpose of the __call__ method in Python?\n",
        "-> The `__call__` method in Python allows an instance of a class to be invoked like a function, enabling objects to behave like callable functions while retaining internal state and object-oriented structure."
      ],
      "metadata": {
        "id": "xioN7rjwhj_k"
      }
    },
    {
      "cell_type": "markdown",
      "source": [
        "@@@@@@@@@@@@@@@@@@@@@@@@@@@@@@@@@@@@@@@@@@@@@@@@@@@@@@@@@@@@"
      ],
      "metadata": {
        "id": "zUTau7oHj5UO"
      }
    },
    {
      "cell_type": "code",
      "source": [
        "#Create a parent class Animal with a method speak() that prints a generic message. Create a child class Dog that overrides the speak() method to print \"Bark!\".\n",
        "\n",
        "class Animal:\n",
        "    def speak(self):\n",
        "        print(\"Generic animal sound\")\n",
        "\n",
        "class Dog(Animal):\n",
        "    def speak(self):\n",
        "        print(\"Bark!\")"
      ],
      "metadata": {
        "id": "jtxD-ceGj52Y"
      },
      "execution_count": null,
      "outputs": []
    },
    {
      "cell_type": "code",
      "source": [
        "#Write a program to create an abstract class Shape with a method area(). Derive classes Circle and Rectangle from it and implement the area() method in both.\n",
        "\n",
        "from abc import ABC, abstractmethod\n",
        "\n",
        "class Shape(ABC):\n",
        "    @abstractmethod\n",
        "    def area(self):\n",
        "        pass\n",
        "\n",
        "class Circle(Shape): #circle\n",
        "    def __init__(self, radius):\n",
        "        self.radius = radius\n",
        "\n",
        "    def area(self):\n",
        "        return math.pi * self.radius ** 2\n",
        "\n",
        "class Rectangle(Shape): #rectangle\n",
        "    def __init__(self, width, height):\n",
        "        self.width = width\n",
        "        self.height = height\n",
        "\n",
        "    def area(self):\n",
        "        return self.width * self.height"
      ],
      "metadata": {
        "id": "k3ppKg5pj9XV"
      },
      "execution_count": null,
      "outputs": []
    },
    {
      "cell_type": "code",
      "source": [
        "# Implement a multi-level inheritance scenario where a class Vehicle has an attribute type. Derive a class Car and further derive a class ElectricCar that adds a battery attribute.\n",
        "\n",
        "class Vehicle:\n",
        "    def __init__(self, vehicle_type):\n",
        "        self.type = vehicle_type\n",
        "\n",
        "    def show_type(self):\n",
        "        print(f\"Vehicle type: {self.type}\")\n",
        "\n",
        "class Car(Vehicle):\n",
        "    def __init__(self, vehicle_type, brand):\n",
        "        super().__init__(vehicle_type)\n",
        "        self.brand = brand\n",
        "\n",
        "    def show_brand(self):\n",
        "        print(f\"Car brand: {self.brand}\")\n",
        "\n",
        "class ElectricCar(Car):\n",
        "    def __init__(self, vehicle_type, brand, battery_capacity):\n",
        "        super().__init__(vehicle_type, brand)\n",
        "        self.battery = battery_capacity\n",
        "\n",
        "    def show_battery(self):\n",
        "        print(f\"Battery capacity: {self.battery} kWh\")\n"
      ],
      "metadata": {
        "id": "WJNYD-Hhj6Mg"
      },
      "execution_count": 1,
      "outputs": []
    },
    {
      "cell_type": "code",
      "source": [
        "# Demonstrate polymorphism by creating a base class Bird with a method fly(). Create two derived classes Sparrow and Penguin that override the fly() method.\n",
        "\n",
        "class Bird:\n",
        "    def fly(self):\n",
        "        print(\"Birds can fly.\")\n",
        "\n",
        "class Sparrow(Bird):\n",
        "    def fly(self):\n",
        "        print(\"Sparrows can fly at high speeds.\")\n",
        "\n",
        "class Penguin(Bird):\n",
        "    def fly(self):\n",
        "        print(\"Penguins can't fly, but they swim gracefully.\")\n",
        ""
      ],
      "metadata": {
        "id": "xOZbfBxTj6DW"
      },
      "execution_count": null,
      "outputs": []
    },
    {
      "cell_type": "code",
      "source": [
        "#Write a program to demonstrate encapsulation by creating a class BankAccount with private attributes balance and methods to deposit, withdraw, and check balanc\n",
        "\n",
        "class BankAccount:\n",
        "    def __init__(self, initial_balance=0):\n",
        "        self.__balance = initial_balance  # Private attribute\n",
        "\n",
        "    def deposit(self, amount):\n",
        "        if amount > 0:\n",
        "            self.__balance += amount\n",
        "            print(f\"Deposited ₹{amount}.\")\n",
        "        else:\n",
        "            print(\"Deposit amount must be positive.\")\n",
        "\n",
        "    def withdraw(self, amount):\n",
        "        if 0 < amount <= self.__balance:\n",
        "            self.__balance -= amount\n",
        "            print(f\"Withdrew ₹{amount}.\")\n",
        "        else:\n",
        "            print(\"Insufficient balance or invalid amount.\")\n",
        "\n",
        "    def check_balance(self):\n",
        "        print(f\"Current balance: ₹{self.__balance}\")\n"
      ],
      "metadata": {
        "id": "JgwgrR_zo-no"
      },
      "execution_count": null,
      "outputs": []
    },
    {
      "cell_type": "code",
      "source": [
        "#Demonstrate runtime polymorphism using a method play() in a base class Instrument. Derive classes Guitar and Piano that implement their own version of play()\n",
        "\n",
        "class Instrument:\n",
        "    def play(self):\n",
        "        print(\"Generic instrument sound\")\n",
        "\n",
        "class Guitar(Instrument):\n",
        "    def play(self):\n",
        "        print(\"Guitar sound\")\n",
        "\n",
        "class Piano(Instrument):\n",
        "    def play(self):\n",
        "        print(\"Piano sound\")\n",
        "\n",
        "def perform(instrument: Instrument):\n",
        "    instrument.play()\n",
        "\n",
        "instruments = [Guitar(), Piano()]\n",
        "\n",
        "for inst in instruments:\n",
        "    perform(inst)"
      ],
      "metadata": {
        "id": "A2V42HnFo-k7"
      },
      "execution_count": null,
      "outputs": []
    },
    {
      "cell_type": "code",
      "source": [
        "#Create a class MathOperations with a class method add_numbers() to add two numbers and a static method subtract_numbers() to subtract two numbers.\n",
        "\n",
        "class MathOperations:\n",
        "    @classmethod\n",
        "    def add_numbers(cls, a, b):\n",
        "        return a + b\n",
        "\n",
        "    @staticmethod\n",
        "    def subtract_numbers(a, b):\n",
        "        return a - b\n",
        "\n",
        "print(\"Addition:\", MathOperations.add_numbers(10, 5))      # Output: 15\n",
        "print(\"Subtraction:\", MathOperations.subtract_numbers(10, 5))  # Output: 5"
      ],
      "metadata": {
        "id": "YKYdlWrxo-h0"
      },
      "execution_count": null,
      "outputs": []
    },
    {
      "cell_type": "code",
      "source": [
        "#Implement a class Person with a class method to count the total number of persons created\n",
        "\n",
        "class Person:\n",
        "    count = 0\n",
        "\n",
        "    def __init__(self, name):\n",
        "        self.name = name\n",
        "        Person.count += 1\n",
        "\n",
        "    @classmethod\n",
        "    def total_persons(cls):\n",
        "        print(f\"Total persons created: {cls.count}\")\n",
        "\n",
        "p1 = Person(\"Alice\")\n",
        "p2 = Person(\"Bob\")\n",
        "p3 = Person(\"Charlie\")\n",
        "\n",
        "Person.total_persons()"
      ],
      "metadata": {
        "colab": {
          "base_uri": "https://localhost:8080/"
        },
        "id": "GVCFfMSlo-XL",
        "outputId": "bfc20c3c-e61a-4ace-a5aa-d8177dbc40f8"
      },
      "execution_count": 2,
      "outputs": [
        {
          "output_type": "stream",
          "name": "stdout",
          "text": [
            "Total persons created: 3\n"
          ]
        }
      ]
    },
    {
      "cell_type": "code",
      "source": [
        "#Write a class Fraction with attributes numerator and denominator. Override the str method to display the fraction as \"numerator/denominator\"\n",
        "\n",
        "class Fraction:\n",
        "    def __init__(self, numerator, denominator):\n",
        "        self.numerator = numerator\n",
        "        self.denominator = denominator\n",
        "\n",
        "    def __str__(self):\n",
        "        return f\"{self.numerator}/{self.denominator}\"\n",
        "\n",
        "f1 = Fraction(3, 4)\n",
        "print(f1)\n"
      ],
      "metadata": {
        "id": "VJka8gROp1dm"
      },
      "execution_count": null,
      "outputs": []
    },
    {
      "cell_type": "code",
      "source": [
        "#Demonstrate operator overloading by creating a class Vector and overriding the add method to add two vectors\n",
        "\n",
        "class Vector:\n",
        "    def __init__(self, x, y):\n",
        "        self.x = x\n",
        "        self.y = y\n",
        "\n",
        "    def __add__(self, other):\n",
        "        return Vector(self.x + other.x, self.y + other.y)"
      ],
      "metadata": {
        "id": "LslwnAiZqIpa"
      },
      "execution_count": null,
      "outputs": []
    },
    {
      "cell_type": "code",
      "source": [
        "# Create a class Person with attributes name and age. Add a method greet() that prints \"Hello, my name is {name} and I am {age} years old.\n",
        "\n",
        "class Person:\n",
        "    def __init__(self, name, age):\n",
        "        self.name = name\n",
        "        self.age = age\n",
        "\n",
        "    def greet(self):\n",
        "        print(f\"Hello, my name is {self.name} and I am {self.age} years old.\")"
      ],
      "metadata": {
        "id": "LfIqzJFIqIl8"
      },
      "execution_count": null,
      "outputs": []
    },
    {
      "cell_type": "code",
      "source": [
        "# Implement a class Student with attributes name and grades. Create a method average_grade() to compute the average of the grades.\n",
        "\n",
        "class Student:\n",
        "    def __init__(self, name):\n",
        "        self.name = name\n",
        "        self.grades = []\n",
        "\n",
        "    def add_grade(self, grade):\n",
        "        self.grades.append(grade)\n",
        "\n",
        "\n",
        "    def average_grade(self):\n",
        "        if not self.grades:\n",
        "            return 0\n",
        "        return sum(self.grades) / len(self.grades)"
      ],
      "metadata": {
        "id": "aPwxi21BqIhS"
      },
      "execution_count": null,
      "outputs": []
    },
    {
      "cell_type": "code",
      "source": [
        "#Create a class Rectangle with methods set_dimensions() to set the dimensions and area() to calculate the area\n",
        "\n",
        "class Rectangle:\n",
        "    def __init__(self):\n",
        "        self.length = 0\n",
        "        self.width = 0\n",
        "\n",
        "    def set_dimensions(self, length, width):\n",
        "        self.length = length\n",
        "        self.width = width\n",
        "\n",
        "    def area(self):\n",
        "        return self.length * self.width\n"
      ],
      "metadata": {
        "id": "x9ZQLx1oqIZH"
      },
      "execution_count": null,
      "outputs": []
    },
    {
      "cell_type": "code",
      "source": [
        "#Create a class Employee with a method calculate_salary() that computes the salary based on hours worked and hourly rate. Create a derived class Manager that adds a bonus to the salary\n",
        "class Employee:\n",
        "    def __init__(self, name, hourly_rate):\n",
        "        self.name = name\n",
        "        self.hourly_rate = hourly_rate\n",
        "\n",
        "    def calculate_salary(self, hours_worked):\n",
        "        return hours_worked * self.hourly_rate\n",
        "\n",
        "class Manager(Employee):\n",
        "    def __init__(self, name, hourly_rate, bonus):\n",
        "        super().__init__(name, hourly_rate)\n",
        "        self.bonus = bonus\n",
        "\n",
        "    def calculate_salary(self, hours_worked):\n",
        "        base_salary = super().calculate_salary(hours_worked)\n",
        "        return base_salary + self.bonus\n"
      ],
      "metadata": {
        "id": "15m7zWhMq2rp"
      },
      "execution_count": null,
      "outputs": []
    },
    {
      "cell_type": "code",
      "source": [
        "#Create a class Product with attributes name, price, and quantity. Implement a method total_price() that calculates the total price of the product\n",
        "\n",
        "class Product:\n",
        "    def __init__(self, name, price, quantity):\n",
        "        self.name = name\n",
        "        self.price = price\n",
        "        self.quantity = quantity\n",
        "\n",
        "    def total_price(self):\n",
        "        return self.price * self.quantity\n"
      ],
      "metadata": {
        "id": "vVoCr6virMfE"
      },
      "execution_count": null,
      "outputs": []
    },
    {
      "cell_type": "code",
      "source": [
        "#Create a class Animal with an abstract method sound(). Create two derived classes Cow and Sheep that implement the sound() method\n",
        "\n",
        "from abc import ABC, abstractmethod\n",
        "\n",
        "class Animal(ABC):\n",
        "    @abstractmethod\n",
        "    def sound(self):\n",
        "        pass\n",
        "\n",
        "class Cow(Animal):\n",
        "    def sound(self):\n",
        "        print(\"Moo!\")\n",
        "\n",
        "class Sheep(Animal):\n",
        "    def sound(self):\n",
        "        print(\"Baa!\")\n"
      ],
      "metadata": {
        "id": "Rj0f-4C8rMb8"
      },
      "execution_count": null,
      "outputs": []
    },
    {
      "cell_type": "code",
      "source": [
        "#Create a class Book with attributes title, author, and year_published. Add a method get_book_info() that returns a formatted string with the book's details\n",
        "\n",
        "class Book:\n",
        "    def __init__(self, title, author, year_published):\n",
        "        self.title = title\n",
        "        self.author = author\n",
        "        self.year_published = year_published\n",
        "\n",
        "    def get_book_info(self):\n",
        "        return f\"'{self.title}' by {self.author}, published in {self.year_published}\"\n"
      ],
      "metadata": {
        "id": "Ka15svIRrMZA"
      },
      "execution_count": null,
      "outputs": []
    },
    {
      "cell_type": "code",
      "source": [
        "#Create a class House with attributes address and price. Create a derived class Mansion that adds an attribute number_of_rooms\n",
        "\n",
        "class House:\n",
        "    def __init__(self, address, price):\n",
        "        self.address = address\n",
        "        self.price = price\n",
        "\n",
        "    def show_info(self):\n",
        "        print(f\"Address: {self.address}, Price: ₹{self.price}\")\n",
        "\n",
        "class Mansion(House):\n",
        "    def __init__(self, address, price, number_of_rooms):\n",
        "        super().__init__(address, price)\n",
        "        self.number_of_rooms = number_of_rooms\n",
        "\n",
        "    def show_info(self):\n",
        "        super().show_info()\n",
        "        print(f\"Number of rooms: {self.number_of_rooms}\")\n"
      ],
      "metadata": {
        "id": "xJk5eGc4rMSd"
      },
      "execution_count": null,
      "outputs": []
    }
  ]
}
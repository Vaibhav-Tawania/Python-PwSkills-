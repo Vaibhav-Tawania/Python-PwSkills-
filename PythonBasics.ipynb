{
  "nbformat": 4,
  "nbformat_minor": 0,
  "metadata": {
    "colab": {
      "provenance": []
    },
    "kernelspec": {
      "name": "python3",
      "display_name": "Python 3"
    },
    "language_info": {
      "name": "python"
    }
  },
  "cells": [
    {
      "cell_type": "markdown",
      "source": [
        "#Phython_Basics"
      ],
      "metadata": {
        "id": "3wqfZwPiprg1"
      }
    },
    {
      "cell_type": "markdown",
      "source": [
        "1. What is Python, and why is it popular?\n",
        "\n",
        " -> Python is a high-level, all-purpose programming language that has grown to be essential to contemporary computing.  Its simplicity, strength, and adaptability combine to make it essential in a variety of sectors.\n",
        "\n",
        " Python is important because :\n",
        "\n",
        " a. The syntax offered by python is easier to grasp for the beginners getting into coding.\n",
        "\n",
        " b. The number of libraries offered by pyhon has been advantageous in various ways.\n",
        "\n",
        " c. Cross industry adoption has made it easier to adapt be it finance, healthcare,gaming.\n"
      ],
      "metadata": {
        "id": "8CnKbY7PqKyH"
      }
    },
    {
      "cell_type": "markdown",
      "source": [
        "2. What is an interpreter in Python?\n",
        "\n",
        "-> The application that reads and runs your code line by line in Python is called an interpreter.  Your.py scripts are transformed into real behavior by this engine, which may be used to train a machine learning model, print text, or calculate numbers."
      ],
      "metadata": {
        "id": "Bx3dsQhAslBO"
      }
    },
    {
      "cell_type": "markdown",
      "source": [
        "3. What are pre-defined keywords in Python?\n",
        "\n",
        "-> Pre-defined keywords are reserved terms with a specific meaning in the grammar of Python.  Since they are a part of Python's core grammar, you cannot use them as identifiers, variable names, or function names."
      ],
      "metadata": {
        "id": "9-HxPegvs8i_"
      }
    },
    {
      "cell_type": "markdown",
      "source": [
        "4. Can keywords be used as variable names?\n",
        "\n",
        "-> No, Python does not allow the usage of keywords as variable names.  Attempting to use these reserved terms as identifiers will result in a syntax error since they determine the language's grammar and structure."
      ],
      "metadata": {
        "id": "P7sR0rQzs9XU"
      }
    },
    {
      "cell_type": "markdown",
      "source": [
        " 5. What is mutability in Python?\n",
        "\n",
        " -> The ability to modify an object's internal state after it has been formed is known as mutability in Python.  It is a basic idea that influences the behavior of data structures, particularly when they are kept in collections or supplied into functions."
      ],
      "metadata": {
        "id": "ZNWZlvdWs7V7"
      }
    },
    {
      "cell_type": "markdown",
      "source": [
        "6. Why are lists mutable, but tuples are immutable?\n",
        "\n",
        "-> In Python, tuples are immutable to maintain data integrity and for safe usage as fixed, hashable structures, but lists are mutable because they are intended for dynamic data manipulation, permitting changes to their contents."
      ],
      "metadata": {
        "id": "Cy3fDhzNtqYW"
      }
    },
    {
      "cell_type": "markdown",
      "source": [
        "7. What is the difference between “==” and “is” operators in Python?\n",
        "\n",
        "-> In Python, `is` determines if two objects belong to the same item in memory, whereas `==` determines whether two objects have the same value."
      ],
      "metadata": {
        "id": "GO_TI5wTs7Ec"
      }
    },
    {
      "cell_type": "markdown",
      "source": [
        "8. What are logical operators in Python?\n",
        "\n",
        "-> Boolean values—True and False—can be combined or altered using logical operators in Python to regulate how your code makes decisions.  When writing conditions with several criteria, they are crucial."
      ],
      "metadata": {
        "id": "OJaeml1PuXpu"
      }
    },
    {
      "cell_type": "markdown",
      "source": [
        "9. What is type casting in Python?\n",
        "\n",
        "-> Converting a value from one data type to another, such as a string to an integer or a float to a string, is known as type casting in Python.  It's a method to ensure that your data is formatted appropriately for the action you wish to take."
      ],
      "metadata": {
        "id": "7jpQLR0buXbK"
      }
    },
    {
      "cell_type": "markdown",
      "source": [
        "10.  What is the difference between implicit and explicit type casting?\n",
        "\n",
        "-> Whereas explicit type casting necessitates the programmer to explicitly change types using methods like `int()`, `float()`, or `str()`, implicit type casting in Python occurs automatically when the interpreter safely transforms one data type to another."
      ],
      "metadata": {
        "id": "OTyc9AhYuXRh"
      }
    },
    {
      "cell_type": "markdown",
      "source": [
        "11. What is the purpose of conditional statements in Python?\n",
        "\n",
        "-> Python conditional statements are used to facilitate decision-making by allowing programs to react flexibly to various inputs and circumstances by executing particular code blocks only when predetermined criteria are fulfilled."
      ],
      "metadata": {
        "id": "m6-VA-gGuXCc"
      }
    },
    {
      "cell_type": "markdown",
      "source": [
        "12. How does the elif statement work?\n",
        "\n",
        "-> The `elif` statement in Python allows you to check multiple conditions after an initial `if`, executing the block of code under the first condition that evaluates to `True` and skipping the rest.\n",
        "\n"
      ],
      "metadata": {
        "id": "z_wTnFhjvJW_"
      }
    },
    {
      "cell_type": "markdown",
      "source": [
        "13. What is the difference between for and while loops?\n",
        "\n",
        "-> The difference between `for` and `while` loops in Python is that a `for` loop is used when the number of iterations is known or finite, typically iterating over a sequence, while a `while` loop continues executing as long as a specified condition remains true."
      ],
      "metadata": {
        "id": "uwsH8bgGvj5p"
      }
    },
    {
      "cell_type": "markdown",
      "source": [
        "14. Describe a scenario where a while loop is more suitable than a for loop?\n",
        "\n",
        "-> A while loop is more suitable than a for loop when you need to repeat an action until a condition changes, such as waiting for user input to match a password or monitoring a sensor until it reaches a threshold."
      ],
      "metadata": {
        "id": "BoR4wi8svjxE"
      }
    },
    {
      "cell_type": "markdown",
      "source": [],
      "metadata": {
        "id": "Tw6xHaqfv6sC"
      }
    },
    {
      "cell_type": "code",
      "source": [
        "#Write a Python program to print \"Hello, World!\"\n",
        "print(\"Hello, World!\")"
      ],
      "metadata": {
        "colab": {
          "base_uri": "https://localhost:8080/"
        },
        "id": "n1Cexh_AuWkc",
        "outputId": "a34646ec-ff73-48ac-be63-3fbc80e218d0"
      },
      "execution_count": 1,
      "outputs": [
        {
          "output_type": "stream",
          "name": "stdout",
          "text": [
            "Hello, World!\n"
          ]
        }
      ]
    },
    {
      "cell_type": "code",
      "source": [
        "# Write a Python program that displays your name and age.\n",
        "name = \"Vaibhav\"\n",
        "age = 22\n",
        "print(name, age)"
      ],
      "metadata": {
        "colab": {
          "base_uri": "https://localhost:8080/"
        },
        "id": "OrfqaXgPwLe1",
        "outputId": "27304402-c0b9-49fa-d5dc-4e084c54c9ed"
      },
      "execution_count": 3,
      "outputs": [
        {
          "output_type": "stream",
          "name": "stdout",
          "text": [
            "Vaibhav 22\n"
          ]
        }
      ]
    },
    {
      "cell_type": "code",
      "source": [
        "#Write code to print all the pre-defined keywords in Python using the keyword library.\n",
        "import keyword\n",
        "print(keyword.kwlist)\n"
      ],
      "metadata": {
        "colab": {
          "base_uri": "https://localhost:8080/"
        },
        "id": "nZP-3Jeqwec4",
        "outputId": "7cafc715-fbf3-4e72-a60f-9ba624a00b3b"
      },
      "execution_count": 4,
      "outputs": [
        {
          "output_type": "stream",
          "name": "stdout",
          "text": [
            "['False', 'None', 'True', 'and', 'as', 'assert', 'async', 'await', 'break', 'class', 'continue', 'def', 'del', 'elif', 'else', 'except', 'finally', 'for', 'from', 'global', 'if', 'import', 'in', 'is', 'lambda', 'nonlocal', 'not', 'or', 'pass', 'raise', 'return', 'try', 'while', 'with', 'yield']\n"
          ]
        }
      ]
    },
    {
      "cell_type": "code",
      "source": [
        "#Write a program that checks if a given word is a Python keyword\n",
        "\n",
        "import keyword\n",
        "\n",
        "word = input(\"Enter a word to check: \")\n",
        "\n",
        "if keyword.iskeyword(word):\n",
        "    print(\" The word is a Python keyword.\")\n",
        "else:\n",
        "    print(\" The word is NOT a Python keyword.\")"
      ],
      "metadata": {
        "colab": {
          "base_uri": "https://localhost:8080/"
        },
        "id": "_pA-rF9-wwdW",
        "outputId": "353a9538-4f39-4c7a-b854-ae89fc1090a6"
      },
      "execution_count": 9,
      "outputs": [
        {
          "output_type": "stream",
          "name": "stdout",
          "text": [
            "Enter a word to check: import\n",
            " The word is a Python keyword.\n"
          ]
        }
      ]
    },
    {
      "cell_type": "code",
      "source": [
        "#Write a function to demonstrate the behavior of mutable arguments.\n",
        "\n",
        "best_footballer_list = [\"Messi\", \"Ronaldo\", \"Maradona\"]\n",
        "best_footballer_list.append(\"Neymar\")\n",
        "print(best_footballer_list)\n",
        "\n",
        "\n",
        "#Write a function to demonstrate the behavior of immutable arguments.\n",
        "\n",
        "best_footballer_tuple = (\"Messi\", \"Ronaldo\", \"Maradona\")\n",
        "best_footballer_tuple.append(\"Neymar\")\n",
        "print(best_footballer_tuple)"
      ],
      "metadata": {
        "colab": {
          "base_uri": "https://localhost:8080/",
          "height": 216
        },
        "id": "uCtq7s91xMb3",
        "outputId": "5eac1824-37b2-4d8e-e5ba-9e79831177b4"
      },
      "execution_count": 12,
      "outputs": [
        {
          "output_type": "stream",
          "name": "stdout",
          "text": [
            "['Messi', 'Ronaldo', 'Maradona', 'Neymar']\n"
          ]
        },
        {
          "output_type": "error",
          "ename": "AttributeError",
          "evalue": "'tuple' object has no attribute 'append'",
          "traceback": [
            "\u001b[0;31m---------------------------------------------------------------------------\u001b[0m",
            "\u001b[0;31mAttributeError\u001b[0m                            Traceback (most recent call last)",
            "\u001b[0;32m/tmp/ipython-input-557539076.py\u001b[0m in \u001b[0;36m<cell line: 0>\u001b[0;34m()\u001b[0m\n\u001b[1;32m      9\u001b[0m \u001b[0;34m\u001b[0m\u001b[0m\n\u001b[1;32m     10\u001b[0m \u001b[0mbest_footballer_tuple\u001b[0m \u001b[0;34m=\u001b[0m \u001b[0;34m(\u001b[0m\u001b[0;34m\"Messi\"\u001b[0m\u001b[0;34m,\u001b[0m \u001b[0;34m\"Ronaldo\"\u001b[0m\u001b[0;34m,\u001b[0m \u001b[0;34m\"Maradona\"\u001b[0m\u001b[0;34m)\u001b[0m\u001b[0;34m\u001b[0m\u001b[0;34m\u001b[0m\u001b[0m\n\u001b[0;32m---> 11\u001b[0;31m \u001b[0mbest_footballer_tuple\u001b[0m\u001b[0;34m.\u001b[0m\u001b[0mappend\u001b[0m\u001b[0;34m(\u001b[0m\u001b[0;34m\"Neymar\"\u001b[0m\u001b[0;34m)\u001b[0m\u001b[0;34m\u001b[0m\u001b[0;34m\u001b[0m\u001b[0m\n\u001b[0m\u001b[1;32m     12\u001b[0m \u001b[0mprint\u001b[0m\u001b[0;34m(\u001b[0m\u001b[0mbest_footballer_tuple\u001b[0m\u001b[0;34m)\u001b[0m\u001b[0;34m\u001b[0m\u001b[0;34m\u001b[0m\u001b[0m\n",
            "\u001b[0;31mAttributeError\u001b[0m: 'tuple' object has no attribute 'append'"
          ]
        }
      ]
    },
    {
      "cell_type": "code",
      "source": [
        "#Write a program that performs basic arithmetic operations on two user-input numbers.\n",
        "\n",
        "num1= int(input(\"Enter a number you want to add/sub/mul/div\"))\n",
        "num2= int(input(\"Enter another number you want to add/sub/mul/div\"))\n",
        "\n",
        "print(\"addition\", num1 + num2)\n",
        "print(\"subtraction\", num1 - num2)\n",
        "print(\"multiplication\", num1 * num2)\n",
        "print(\"division\", num1 / num2)"
      ],
      "metadata": {
        "colab": {
          "base_uri": "https://localhost:8080/"
        },
        "id": "jZ06tnGkzoKN",
        "outputId": "82128c52-75b8-49f9-fc9c-456dda1eb954"
      },
      "execution_count": 17,
      "outputs": [
        {
          "output_type": "stream",
          "name": "stdout",
          "text": [
            "Enter a number you want to add/sub/mul/div10\n",
            "Enter another number you want to add/sub/mul/div5\n",
            "addition 15\n",
            "subtraction 5\n",
            "multiplication 50\n",
            "division 2.0\n"
          ]
        }
      ]
    },
    {
      "cell_type": "code",
      "source": [
        "#Write a program to demonstrate the use of logical operators.\n",
        "\n",
        "age = int(input(\"enter your age: \"))\n",
        "has_ticket = bool(input(\"do you have a ticket? (True/False): \"))\n",
        "is_vip = bool(input(\"are you a VIP? (True/False): \"))\n",
        "true=(True)\n",
        "false=(False)\n",
        "\n",
        "\n",
        "\n",
        "# Using AND operator\n",
        "if age >= 18 and has_ticket == True:\n",
        "  print(\"Granted: You are eligible to enter and have a ticket.\")\n",
        "else:\n",
        "  print(\"Denied: You are not eligible to buy a ticket.\")\n",
        "\n",
        "\n",
        "# Using OR operator\n",
        "if has_ticket== True or is_vip == True:\n",
        "  print(\"Granted: You are eligible to enter as a VIP.\")\n",
        "else:\n",
        "  print(\"Denied: You are not eligible to enter or be a VIP.\")"
      ],
      "metadata": {
        "colab": {
          "base_uri": "https://localhost:8080/"
        },
        "id": "2R0ggN7s02Il",
        "outputId": "c386812f-52f5-4b45-87af-0417a8ce3c8c"
      },
      "execution_count": 34,
      "outputs": [
        {
          "output_type": "stream",
          "name": "stdout",
          "text": [
            "enter your age: 40\n",
            "do you have a ticket? (True/False): no\n",
            "are you a VIP? (True/False): no\n",
            "Granted: You are eligible to enter and have a ticket.\n",
            "Granted: You are eligible to enter as a VIP.\n"
          ]
        }
      ]
    },
    {
      "cell_type": "code",
      "source": [
        "#Write a Python program to convert user input from string to integer, float, and boolean types\n",
        "\n",
        "get_input = input(\"enter your age\")\n",
        "\n",
        "int_input = (int(get_input))\n",
        "print(\"converted to integer\", int_input)\n",
        "\n",
        "\n",
        "\n"
      ],
      "metadata": {
        "colab": {
          "base_uri": "https://localhost:8080/"
        },
        "id": "qKJzYVtS5REv",
        "outputId": "0c54375b-d5ca-4ef1-c6fd-7599147c929c"
      },
      "execution_count": 53,
      "outputs": [
        {
          "output_type": "stream",
          "name": "stdout",
          "text": [
            "enter your age50\n",
            "converted to integer 50\n"
          ]
        }
      ]
    },
    {
      "cell_type": "code",
      "source": [
        "#Write code to demonstrate type casting with list elements\n",
        "\n",
        "number_list = [1, 2, 3, 4, 5]\n",
        "string_list = [str(num) for num in number_list]\n",
        "print(string_list)\n"
      ],
      "metadata": {
        "colab": {
          "base_uri": "https://localhost:8080/"
        },
        "id": "JoNQHK2UNTol",
        "outputId": "f05ac34b-9df8-4f4a-8ce9-8726415bedf9"
      },
      "execution_count": 56,
      "outputs": [
        {
          "output_type": "stream",
          "name": "stdout",
          "text": [
            "['1', '2', '3', '4', '5']\n"
          ]
        }
      ]
    },
    {
      "cell_type": "code",
      "source": [
        "#Write a program that checks if a number is positive, negative, or zero\n",
        "\n",
        "enter_number = int(input(\"enter a number\"))\n",
        "\n",
        "if enter_number > 0:\n",
        "  print(\"positive\")\n",
        "elif enter_number < 0:\n",
        "  print(\"negative\")\n",
        "else:\n",
        "  print(\"zero\")"
      ],
      "metadata": {
        "colab": {
          "base_uri": "https://localhost:8080/"
        },
        "id": "nSvndKyeN03l",
        "outputId": "15340a33-a28c-4c9f-f4a3-ff573f55fa7f"
      },
      "execution_count": 57,
      "outputs": [
        {
          "output_type": "stream",
          "name": "stdout",
          "text": [
            "enter a number6\n",
            "positive\n"
          ]
        }
      ]
    },
    {
      "cell_type": "code",
      "source": [
        "#Write a for loop to print numbers from 1 to 10.\n",
        "\n",
        "for i in range (1, 11):\n",
        "  print(i)"
      ],
      "metadata": {
        "colab": {
          "base_uri": "https://localhost:8080/"
        },
        "id": "b7_Yg2PQRGqX",
        "outputId": "e6d4630b-aaf0-4761-d9dd-56ac6c949e82"
      },
      "execution_count": 58,
      "outputs": [
        {
          "output_type": "stream",
          "name": "stdout",
          "text": [
            "1\n",
            "2\n",
            "3\n",
            "4\n",
            "5\n",
            "6\n",
            "7\n",
            "8\n",
            "9\n",
            "10\n"
          ]
        }
      ]
    },
    {
      "cell_type": "code",
      "source": [
        "#Write a Python program to find the sum of all even numbers between 1 and 50\n",
        "\n",
        "total= 0\n",
        "\n",
        "\n",
        "for i in range (1,51):\n",
        "  if i % 2 == 0:\n",
        "    total += i\n",
        "\n",
        "print(\"sum of all even numbers is:\" , total)"
      ],
      "metadata": {
        "colab": {
          "base_uri": "https://localhost:8080/"
        },
        "id": "R9gsd3G6RVJI",
        "outputId": "c22f43fa-0086-42a9-89e6-a3a5ef956997"
      },
      "execution_count": 75,
      "outputs": [
        {
          "output_type": "stream",
          "name": "stdout",
          "text": [
            "sum of all even numbers is: 650\n"
          ]
        }
      ]
    },
    {
      "cell_type": "code",
      "source": [
        "#Write a program to reverse a string using a while loop\n",
        "\n",
        "\n",
        "text = input(\"Enter a string: \")\n",
        "\n",
        "reversed_text = \"\"\n",
        "index = len(text) - 1\n",
        "\n",
        "while index >= 0:\n",
        "    reversed_text += text[index]\n",
        "    index -= 1\n",
        "\n",
        "print(\"Reversed string:\", reversed_text)\n",
        "\n",
        "\n"
      ],
      "metadata": {
        "colab": {
          "base_uri": "https://localhost:8080/"
        },
        "id": "eBVFmcc5RuOA",
        "outputId": "77be4f97-ee4d-4875-cdfe-85f9fa980d19"
      },
      "execution_count": 77,
      "outputs": [
        {
          "output_type": "stream",
          "name": "stdout",
          "text": [
            "Enter a string: gidfifqhg\n",
            "Reversed string: ghqfifdig\n"
          ]
        }
      ]
    },
    {
      "cell_type": "code",
      "source": [
        "#Write a Python program to calculate the factorial of a number provided by the user using a while loop\n",
        "\n",
        "\n",
        "num = int(input(\"Enter a positive integer: \"))\n",
        "\n",
        "factorial = 1\n",
        "i = 1\n",
        "\n",
        "if num < 0:\n",
        "    print(\" No factorial for negative numbers.\")\n",
        "else:\n",
        "\n",
        "    while i <= num:\n",
        "        factorial *= i\n",
        "        i += 1\n",
        "\n",
        "\n",
        "    print(\" Factorial of\", num, \"is:\", factorial)\n"
      ],
      "metadata": {
        "colab": {
          "base_uri": "https://localhost:8080/"
        },
        "id": "mXhNVaOCSoFB",
        "outputId": "465666cb-926c-43dc-85d9-e43c62ec67fd"
      },
      "execution_count": 81,
      "outputs": [
        {
          "output_type": "stream",
          "name": "stdout",
          "text": [
            "Enter a positive integer: 56\n",
            " Factorial of 56 is: 710998587804863451854045647463724949736497978881168458687447040000000000000\n"
          ]
        }
      ]
    },
    {
      "cell_type": "code",
      "source": [],
      "metadata": {
        "id": "PC_Cevk4UEYq"
      },
      "execution_count": 79,
      "outputs": []
    }
  ]
}
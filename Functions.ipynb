{
  "nbformat": 4,
  "nbformat_minor": 0,
  "metadata": {
    "colab": {
      "provenance": []
    },
    "kernelspec": {
      "name": "python3",
      "display_name": "Python 3"
    },
    "language_info": {
      "name": "python"
    }
  },
  "cells": [
    {
      "cell_type": "markdown",
      "source": [
        "#FUNCTIONS"
      ],
      "metadata": {
        "id": "R7I4iENhzxRM"
      }
    },
    {
      "cell_type": "markdown",
      "source": [
        " 1. What is the difference between a function and a method in Python?\n",
        "\n",
        " -> A method is a function connected to an object, whereas a function is a stand-alone block of code.  For instance, \"hello\" is a function that is len(). The method upper()\n",
        "\n",
        "\n",
        " example >>\n",
        "\n",
        "\"Function\" def greet(): return \"Hello\"        \n",
        "\n",
        "\"Method\" text = \"hello\"             \n"
      ],
      "metadata": {
        "id": "-PqM6PG3zz4o"
      }
    },
    {
      "cell_type": "markdown",
      "source": [
        "2. Explain the concept of function arguments and parameters in Python\n",
        "-> Parameters are variables listed in a function definition. Arguments are actual values passed during a function call. Example: def greet(name) → name is a parameter; greet(\"Smay\") → \"Smay\" is an argument.\n",
        "\n",
        "\n",
        "example >>\n",
        "\n",
        "\"Parameter\" def greet(name):                    \n",
        "\n",
        "\n",
        "\"Argument\" print(greet(\"Smay\"))"
      ],
      "metadata": {
        "id": "ODhdJk-P01AW"
      }
    },
    {
      "cell_type": "markdown",
      "source": [
        "3. What are the different ways to define and call a function in Python?\n",
        "-> Use def to define: def add(x, y): return x + y. Call with add(2, 3). You can also use lambda, decorators, or recursion.\n",
        "\n",
        "example>>\n",
        "def square(x): return x * x\n",
        "print(square(5))\n",
        "\n",
        "\"Lambda\"\n",
        "print((lambda x: x * x)(5))\n",
        "\n",
        "\n",
        "\"Recursion\"\n",
        "def factorial(n): return 1 if n == 0 else n * factorial(n - 1)\n",
        "print(factorial(5))\n"
      ],
      "metadata": {
        "id": "UPfWZ5TE2ZPB"
      }
    },
    {
      "cell_type": "markdown",
      "source": [
        "4.What is the purpose of the return statement in a Python function?\n",
        "-> return sends a value back to the caller and exits the function. Without it, the function returns None.\n",
        "\n",
        "example>>\n",
        "\n",
        "\n",
        "def add(a, b): return a + b\n",
        "result = add(3, 4)\n",
        "print(result)                      \n"
      ],
      "metadata": {
        "id": "fp6VJozC223S"
      }
    },
    {
      "cell_type": "markdown",
      "source": [
        "5.  What are iterators in Python and how do they differ from iterables?\n",
        "-> An iterable (like a list) can be looped over. An iterator is an object with __next__() and __iter__() methods. Use iter() to get an iterator from an iterable.\n",
        "\n",
        "example>>\n",
        "\n",
        "nums = [1, 2, 3]                    # Iterable\n",
        "it = iter(nums)                    # Iterator\n",
        "print(next(it))                    # Outputs 1\n"
      ],
      "metadata": {
        "id": "_5y5gQBb22y2"
      }
    },
    {
      "cell_type": "markdown",
      "source": [
        "6. Explain the concept of generators in Python and how they are defined?\n",
        "\n",
        "Generators are functions using yield to produce a sequence lazily.\n",
        "\n",
        "Example:\n",
        "\n",
        "def gen(): yield 1; yield 2"
      ],
      "metadata": {
        "id": "AmmHENRq22v_"
      }
    },
    {
      "cell_type": "markdown",
      "source": [
        "7. What are the advantages of using generators over regular functions?\n",
        "-> They save memory, support lazy evaluation, and are ideal for large datasets or infinite sequences."
      ],
      "metadata": {
        "id": "hsYCJ9Cd22o9"
      }
    },
    {
      "cell_type": "markdown",
      "source": [
        "8. What is a lambda function in Python and when is it typically used?\n",
        "\n",
        "-> Anonymous, one-line functions. Example: lambda x: x * 2. Used in map(), filter(), or quick operations.\n",
        "\n",
        "example>>\n",
        "\n",
        "double = lambda x: x * 2\n",
        "print(double(4))                 \n"
      ],
      "metadata": {
        "id": "cdWQFC6X3Nhz"
      }
    },
    {
      "cell_type": "markdown",
      "source": [
        "9.  Explain the purpose and usage of the `map()` function in Python.\n",
        "-> Applies a function to each item in an iterable.\n",
        "\n",
        "Example:\n",
        "\n",
        "nums = [1, 2, 3]\n",
        "doubled = list(map(lambda x: x * 2, nums))\n",
        "print(doubled)              \n"
      ],
      "metadata": {
        "id": "Y-LV5glC3Nft"
      }
    },
    {
      "cell_type": "markdown",
      "source": [
        "10. What is the difference between map(), reduce(), and filter() functions in Python?\n",
        "-> The map(), reduce(), and filter() functions in Python are functional programming tools used to process iterables efficiently.\n",
        "\n",
        "- **`map()`** applies a function to each item in an iterable and returns a new iterable with the transformed results.  \n",
        "  Example: map(lambda x: x*2, [1, 2, 3]) [2, 4, 6]\n",
        "\n",
        "- **`filter()`** selects items from an iterable based on a condition defined in a function. filter(lambda x: x % 2 == 0, [1, 2, 3])` → `[2]`\n",
        "\n",
        "- **`reduce()`** (from functools) applies a function cumulatively to the items of an iterable, reducing it to a single value.  \n",
        "  Example: reduce(lambda x, y: x + y, [1, 2, 3, 4]) 10\n",
        "\n",
        "In short:  \n",
        "map() transforms  \n",
        "filter()` extracts  \n",
        "reduce()` aggregates  \n",
        "\n",
        "They’re often used with lambda functions for concise, readable code, especially in data processing pipelines.\n",
        "\n",
        "example >>\n",
        "\n",
        "from functools import reduce\n",
        "\n",
        "nums = [1, 2, 3, 4]\n",
        "\n",
        "mapped = list(map(lambda x: x * 2, nums))       \n",
        "filtered = list(filter(lambda x: x % 2 == 0, nums))  \n",
        "reduced = reduce(lambda x, y: x + y, nums)      \n",
        "\n",
        "print(mapped, filtered, reduced)\n"
      ],
      "metadata": {
        "id": "NsmXL_re3Naf"
      }
    },
    {
      "cell_type": "code",
      "source": [
        "#Write a Python function that takes a list of numbers as input and returns the sum of all even numbers in the list.\n",
        "\n",
        "def sum_evennumbers(*args):\n",
        "    total = 0\n",
        "    for num in args:\n",
        "        if num % 2 == 0:\n",
        "            total += num\n",
        "    return total\n",
        "\n"
      ],
      "metadata": {
        "id": "blDB6WCI4krI"
      },
      "execution_count": null,
      "outputs": []
    },
    {
      "cell_type": "code",
      "source": [
        "sum_evennumbers(1,26,52,156,73,26,3,5)"
      ],
      "metadata": {
        "colab": {
          "base_uri": "https://localhost:8080/"
        },
        "id": "OtkegBCW5ttq",
        "outputId": "1715fa61-c0e5-4d22-ca22-dd95d99f8bb5"
      },
      "execution_count": null,
      "outputs": [
        {
          "output_type": "execute_result",
          "data": {
            "text/plain": [
              "260"
            ]
          },
          "metadata": {},
          "execution_count": 14
        }
      ]
    },
    {
      "cell_type": "code",
      "source": [
        "#Create a Python function that accepts a string and returns the reverse of that string.\n",
        "\n",
        "def reverse_str(text):\n",
        "  return text[::-1]\n"
      ],
      "metadata": {
        "id": "GWL6HXmy5zIV"
      },
      "execution_count": null,
      "outputs": []
    },
    {
      "cell_type": "code",
      "source": [
        "reverse_str(\"pwskills\")"
      ],
      "metadata": {
        "colab": {
          "base_uri": "https://localhost:8080/",
          "height": 35
        },
        "id": "l-95sTwg-V9C",
        "outputId": "e352ce7e-f40c-4cf5-db40-f85aed48dc3f"
      },
      "execution_count": null,
      "outputs": [
        {
          "output_type": "execute_result",
          "data": {
            "text/plain": [
              "'sllikswp'"
            ],
            "application/vnd.google.colaboratory.intrinsic+json": {
              "type": "string"
            }
          },
          "metadata": {},
          "execution_count": 27
        }
      ]
    },
    {
      "cell_type": "code",
      "source": [
        "#Implement a Python function that takes a list of integers and returns a new list containing the squares of each number?\n",
        "\n",
        "def sq_nums(n):\n",
        "    squared = []\n",
        "    for num in n :\n",
        "        squared.append(num ** 2)\n",
        "    return squared\n",
        "\n",
        "\n"
      ],
      "metadata": {
        "id": "s21ML3Sj-dn0"
      },
      "execution_count": null,
      "outputs": []
    },
    {
      "cell_type": "code",
      "source": [
        "num= [1,3,21,53,86]\n",
        "sq_nums(num)"
      ],
      "metadata": {
        "colab": {
          "base_uri": "https://localhost:8080/"
        },
        "id": "J4Njg4Ux--zC",
        "outputId": "6beab12e-c402-4693-b5b4-4aed7a6a9b7d"
      },
      "execution_count": null,
      "outputs": [
        {
          "output_type": "execute_result",
          "data": {
            "text/plain": [
              "[1, 9, 441, 2809, 7396]"
            ]
          },
          "metadata": {},
          "execution_count": 6
        }
      ]
    },
    {
      "cell_type": "code",
      "source": [
        "#Write a Python function that checks if a given number is prime or not from 1 to 200\n",
        "\n",
        "def check_prime(n):\n",
        "    if n <= 1:\n",
        "        return False\n",
        "    if n == 2:\n",
        "        return True\n",
        "    if n % 2 == 0:\n",
        "        return False\n",
        "    for i in range(3, int(n**0.5) + 1, 2):\n",
        "        if n % i == 0:\n",
        "            return False\n",
        "    return True\n"
      ],
      "metadata": {
        "id": "WABfBAhP_EpE"
      },
      "execution_count": null,
      "outputs": []
    },
    {
      "cell_type": "code",
      "source": [
        "check_prime(17)"
      ],
      "metadata": {
        "colab": {
          "base_uri": "https://localhost:8080/"
        },
        "id": "7t_pYgZO8cLk",
        "outputId": "e3f9ef7f-71a0-4a91-cf6f-6c04648fbdf5"
      },
      "execution_count": null,
      "outputs": [
        {
          "output_type": "execute_result",
          "data": {
            "text/plain": [
              "True"
            ]
          },
          "metadata": {},
          "execution_count": 13
        }
      ]
    },
    {
      "cell_type": "code",
      "source": [
        "#Create an iterator class in Python that generates the Fibonacci sequence up to a specified number of terms.\n",
        "\n",
        "def fib_num(n):\n",
        "  a = 0\n",
        "  b = 1\n",
        "  for i in range(n):\n",
        "    yield a\n",
        "    a , b = b, a+b\n"
      ],
      "metadata": {
        "id": "0OjylUGB8gZE"
      },
      "execution_count": null,
      "outputs": []
    },
    {
      "cell_type": "code",
      "source": [
        "f = fib_num(1000000)"
      ],
      "metadata": {
        "id": "X_2WbU4S-HCu"
      },
      "execution_count": null,
      "outputs": []
    },
    {
      "cell_type": "code",
      "source": [
        "next(f)*167"
      ],
      "metadata": {
        "colab": {
          "base_uri": "https://localhost:8080/"
        },
        "id": "7ddld79e-LiS",
        "outputId": "0eb77896-8246-41ae-f1e3-884b98c2ce4f"
      },
      "execution_count": null,
      "outputs": [
        {
          "output_type": "execute_result",
          "data": {
            "text/plain": [
              "334"
            ]
          },
          "metadata": {},
          "execution_count": 25
        }
      ]
    },
    {
      "cell_type": "code",
      "source": [
        "#Write a generator function in Python that yields the powers of 2 up to a given exponent\n",
        "\n",
        "def powers_of_two(max_exponent):\n",
        "    for exponent in range(max_exponent + 1):\n",
        "        yield 2 ** exponent\n",
        "\n"
      ],
      "metadata": {
        "id": "_iU9b1_--VfM"
      },
      "execution_count": null,
      "outputs": []
    },
    {
      "cell_type": "code",
      "source": [
        "for value in powers_of_two(8):\n",
        "    print(value)"
      ],
      "metadata": {
        "colab": {
          "base_uri": "https://localhost:8080/"
        },
        "id": "Xx82wZ7s-49u",
        "outputId": "5c4178f9-1d3f-4731-9059-3d9f24353b2e"
      },
      "execution_count": null,
      "outputs": [
        {
          "output_type": "stream",
          "name": "stdout",
          "text": [
            "1\n",
            "2\n",
            "4\n",
            "8\n",
            "16\n",
            "32\n",
            "64\n",
            "128\n",
            "256\n"
          ]
        }
      ]
    },
    {
      "cell_type": "code",
      "source": [
        "#Implement a generator function that reads a file line by line and yields each line as a string\n",
        "\n",
        "def read_byline(filename):\n",
        "    with open(filename, 'r') as file:\n",
        "        for line in file:\n",
        "            yield line.strip()\n"
      ],
      "metadata": {
        "id": "hIFCLJI9_HXB"
      },
      "execution_count": null,
      "outputs": []
    },
    {
      "cell_type": "code",
      "source": [
        "\n",
        "for line in read_byline(\"pwskills.txt\"):\n",
        "    print(line)\n"
      ],
      "metadata": {
        "colab": {
          "base_uri": "https://localhost:8080/",
          "height": 269
        },
        "id": "_E9_oyQW_LPS",
        "outputId": "abf1792d-811d-494b-8f49-bf912f47844f"
      },
      "execution_count": null,
      "outputs": [
        {
          "output_type": "error",
          "ename": "FileNotFoundError",
          "evalue": "[Errno 2] No such file or directory: 'pwskills.txt'",
          "traceback": [
            "\u001b[0;31m---------------------------------------------------------------------------\u001b[0m",
            "\u001b[0;31mFileNotFoundError\u001b[0m                         Traceback (most recent call last)",
            "\u001b[0;32m/tmp/ipython-input-3136747586.py\u001b[0m in \u001b[0;36m<cell line: 0>\u001b[0;34m()\u001b[0m\n\u001b[0;32m----> 1\u001b[0;31m \u001b[0;32mfor\u001b[0m \u001b[0mline\u001b[0m \u001b[0;32min\u001b[0m \u001b[0mread_byline\u001b[0m\u001b[0;34m(\u001b[0m\u001b[0;34m\"pwskills.txt\"\u001b[0m\u001b[0;34m)\u001b[0m\u001b[0;34m:\u001b[0m\u001b[0;34m\u001b[0m\u001b[0;34m\u001b[0m\u001b[0m\n\u001b[0m\u001b[1;32m      2\u001b[0m     \u001b[0mprint\u001b[0m\u001b[0;34m(\u001b[0m\u001b[0mline\u001b[0m\u001b[0;34m)\u001b[0m\u001b[0;34m\u001b[0m\u001b[0;34m\u001b[0m\u001b[0m\n",
            "\u001b[0;32m/tmp/ipython-input-1896533193.py\u001b[0m in \u001b[0;36mread_byline\u001b[0;34m(filename)\u001b[0m\n\u001b[1;32m      1\u001b[0m \u001b[0;32mdef\u001b[0m \u001b[0mread_byline\u001b[0m\u001b[0;34m(\u001b[0m\u001b[0mfilename\u001b[0m\u001b[0;34m)\u001b[0m\u001b[0;34m:\u001b[0m\u001b[0;34m\u001b[0m\u001b[0;34m\u001b[0m\u001b[0m\n\u001b[0;32m----> 2\u001b[0;31m     \u001b[0;32mwith\u001b[0m \u001b[0mopen\u001b[0m\u001b[0;34m(\u001b[0m\u001b[0mfilename\u001b[0m\u001b[0;34m,\u001b[0m \u001b[0;34m'r'\u001b[0m\u001b[0;34m)\u001b[0m \u001b[0;32mas\u001b[0m \u001b[0mfile\u001b[0m\u001b[0;34m:\u001b[0m\u001b[0;34m\u001b[0m\u001b[0;34m\u001b[0m\u001b[0m\n\u001b[0m\u001b[1;32m      3\u001b[0m         \u001b[0;32mfor\u001b[0m \u001b[0mline\u001b[0m \u001b[0;32min\u001b[0m \u001b[0mfile\u001b[0m\u001b[0;34m:\u001b[0m\u001b[0;34m\u001b[0m\u001b[0;34m\u001b[0m\u001b[0m\n\u001b[1;32m      4\u001b[0m             \u001b[0;32myield\u001b[0m \u001b[0mline\u001b[0m\u001b[0;34m.\u001b[0m\u001b[0mstrip\u001b[0m\u001b[0;34m(\u001b[0m\u001b[0;34m)\u001b[0m\u001b[0;34m\u001b[0m\u001b[0;34m\u001b[0m\u001b[0m\n",
            "\u001b[0;31mFileNotFoundError\u001b[0m: [Errno 2] No such file or directory: 'pwskills.txt'"
          ]
        }
      ]
    },
    {
      "cell_type": "code",
      "source": [
        "#Use a lambda function in Python to sort a list of tuples based on the second element of each tuple\n",
        "\n",
        "text = [(\"rohit\", \"sharma\"), (\"tilak\", \"verma\"), (\"virat\", \"kohli\"), (\"kl\", \"rahul\")]\n"
      ],
      "metadata": {
        "id": "3ut9LACDBJwt"
      },
      "execution_count": null,
      "outputs": []
    },
    {
      "cell_type": "code",
      "source": [
        "sorting_byname = sorted(text, key = lambda x: x[1])\n",
        "sorting_byname"
      ],
      "metadata": {
        "colab": {
          "base_uri": "https://localhost:8080/"
        },
        "id": "crX1Kr0ZCbEo",
        "outputId": "62d7519b-f2a2-4005-c044-81f4e926649d"
      },
      "execution_count": null,
      "outputs": [
        {
          "output_type": "execute_result",
          "data": {
            "text/plain": [
              "['rahul, kl', ('sharma', 'rohit'), ('verma', 'tilak'), ('kohli', 'virat')]"
            ]
          },
          "metadata": {},
          "execution_count": 72
        }
      ]
    },
    {
      "cell_type": "code",
      "source": [
        "#Write a Python program that uses `map()` to convert a list of temperatures from Celsius to Fahrenheit\n",
        "\n",
        "\n",
        "Celcius = [32, 73,13,83,50,40,37]\n",
        "\n",
        "to_farenhiet = list(map(lambda x: (x * 9/5)+32, Celcius))"
      ],
      "metadata": {
        "id": "PIXfIRkwC2aL"
      },
      "execution_count": null,
      "outputs": []
    },
    {
      "cell_type": "code",
      "source": [
        "to_farenhiet"
      ],
      "metadata": {
        "colab": {
          "base_uri": "https://localhost:8080/"
        },
        "id": "LkQCBoyMEeLT",
        "outputId": "239b719c-7e4a-4502-bf73-555905513b88"
      },
      "execution_count": null,
      "outputs": [
        {
          "output_type": "execute_result",
          "data": {
            "text/plain": [
              "[89.6, 163.4, 55.4, 181.4, 122.0, 104.0, 98.6]"
            ]
          },
          "metadata": {},
          "execution_count": 82
        }
      ]
    },
    {
      "cell_type": "code",
      "source": [
        "def remove_vowel_func(text):\n",
        "  vowel = \"aeiouAEIOU\"\n",
        "  no_vowel = list(filter(lambda x: x not in vowel, text))\n",
        "  return no_vowel\n"
      ],
      "metadata": {
        "id": "eeDFCexYFPTj"
      },
      "execution_count": null,
      "outputs": []
    },
    {
      "cell_type": "code",
      "source": [
        "remove_vowel_func(\"pwskills\")"
      ],
      "metadata": {
        "colab": {
          "base_uri": "https://localhost:8080/"
        },
        "id": "zyINtxqXGWFV",
        "outputId": "3c34ccc0-ab26-4567-eed8-81aa78a47a6d"
      },
      "execution_count": null,
      "outputs": [
        {
          "output_type": "execute_result",
          "data": {
            "text/plain": [
              "['p', 'w', 's', 'k', 'l', 'l', 's']"
            ]
          },
          "metadata": {},
          "execution_count": 114
        }
      ]
    },
    {
      "cell_type": "code",
      "source": [
        "#Write a Python program, which returns a list with 2-tuples. Each tuple consists of the order number and the product of the price per item and the quantity. The product should be increased by 10,- € if the value of the order is smaller than 100,00 €. Write a Python program using lambda and map"
      ],
      "metadata": {
        "id": "IsobvkAJGe2w"
      },
      "execution_count": null,
      "outputs": []
    },
    {
      "cell_type": "code",
      "source": [
        "order = [\n",
        "    [34587, \"Learning Python, Mark Lutz\", 4, 40.95],\n",
        "    [98762, \"Programming Python, Mark Lutz\", 5, 56.80],\n",
        "    [77226, \"Head First Python, Paul Barry\", 3, 32],\n",
        "    [88112, \"Einfuhrung in Python3, Bernd Klein\", 3, 24.99]\n",
        "]\n",
        "\n",
        "total = list(map(lambda order: (\n",
        "    order[0],\n",
        "    order[2] * order[3] + (10 if order[2] * order[3] < 100 else 0)\n",
        "), order))\n",
        "\n",
        "print(total)\n"
      ],
      "metadata": {
        "colab": {
          "base_uri": "https://localhost:8080/"
        },
        "id": "8Yj3NXhYHZYQ",
        "outputId": "77ab4660-a0e2-4121-db13-54a574324495"
      },
      "execution_count": null,
      "outputs": [
        {
          "output_type": "stream",
          "name": "stdout",
          "text": [
            "[(34587, 163.8), (98762, 284.0), (77226, 106), (88112, 84.97)]\n"
          ]
        }
      ]
    },
    {
      "cell_type": "code",
      "source": [],
      "metadata": {
        "id": "n_DIzwpKHbAA"
      },
      "execution_count": null,
      "outputs": []
    },
    {
      "cell_type": "code",
      "source": [],
      "metadata": {
        "id": "xXEniapcJHTq"
      },
      "execution_count": null,
      "outputs": []
    }
  ]
}
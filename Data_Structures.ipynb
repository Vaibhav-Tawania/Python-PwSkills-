{
  "nbformat": 4,
  "nbformat_minor": 0,
  "metadata": {
    "colab": {
      "provenance": []
    },
    "kernelspec": {
      "name": "python3",
      "display_name": "Python 3"
    },
    "language_info": {
      "name": "python"
    }
  },
  "cells": [
    {
      "cell_type": "markdown",
      "source": [
        "#DATA TYPE AND STRUCTURES."
      ],
      "metadata": {
        "id": "Zn59ymuoxQ_z"
      }
    },
    {
      "cell_type": "markdown",
      "source": [
        "1. What are data structures, and why are they important?\n",
        " >> Data structures** are specialized forms used in computer applications to effectively handle, store, and organize data.  They have a direct impact on the speed, scalability, and readability of your code as they dictate how efficiently you can access, alter, and process data.  When developing a trading algorithm, web application, or machine learning model, selecting the appropriate data structure—such as lists, dictionaries, sets, or tuples—allows you to handle issues more quickly and with less resources."
      ],
      "metadata": {
        "id": "KIYpJUyhnHVr"
      }
    },
    {
      "cell_type": "markdown",
      "source": [
        "2.Explain the difference between mutable and immutable data types with examples. explain it in a sentence?\n",
        ">> While immutable data types like strings, integers, and tuples cannot be modified once declared (trying `my_tuple[0] = 1` causes an error), mutable data types like lists, dictionaries, and sets may be updated after creation (e.g., `my_list.append(5)`)."
      ],
      "metadata": {
        "id": "wI5smSWpoA60"
      }
    },
    {
      "cell_type": "markdown",
      "source": [
        "3.  What are the main differences between lists and tuples in Python?\n",
        ">> Although lists and tuples are both used in Python to hold collections of things, their use cases and behaviors are very different.  Lists are perfect for dynamic data structures because they are changeable, which means that items may be added, deleted, or altered.  In contrast, tuples are safer for storing fixed data and help maintain data integrity since their elements cannot be changed once they are generated.  Because of their versatility, lists use more memory and iterate more slowly than tuples, which are more memory-efficient and iterate more quickly.  Tuples are more stable but have fewer built-in manipulation techniques than lists.  Depending on whether you need to change the data or give performance and dependability priority, you can choose between them."
      ],
      "metadata": {
        "id": "Ejl1ec4KoTmp"
      }
    },
    {
      "cell_type": "markdown",
      "source": [
        "4. Describe how dictionaries store data?\n",
        ">> Python dictionaries use a structure known as a **hash table** to store data as **key-value pairs**.  In order to enable **fast access, insertion, and deletion**—usually in constant time—each key is hashed to establish its index in memory.  Values can be any type, but keys must be **immutable** (such as strings, integers, or tuples).  Starting with Python 3.7, dictionaries preserve **insertion order**, which means that objects are saved and retrieved in the same order as they were inserted.  Adding a value to an existing key will **overwrite** the old one; duplicate keys are not permitted."
      ],
      "metadata": {
        "id": "95-bH89DooVM"
      }
    },
    {
      "cell_type": "markdown",
      "source": [
        "5. Why might you use a set instead of a list in Python?\n",
        ">>In Python, you may use a set rather than a list when you need to hold **unique elements** and run **quick membership tests**.  Because of their hash-based design, sets provide **average O(1) time complexity** for determining whether an item exists and automatically remove duplicates.  Although sets **do not support indexing or slicing** and are **unordered** in contrast to lists, they are excellent at operations like **union, intersection, and difference**, which makes them perfect for jobs involving distinct values or mathematical set logic.  When uniqueness is crucial and order is irrelevant, use sets."
      ],
      "metadata": {
        "id": "clETdEWoo6rq"
      }
    },
    {
      "cell_type": "markdown",
      "source": [
        "6. What is a string in Python, and how is it different from a list?\n",
        ">> In Python, a string is a **unchangeable string of characters** that is surrounded by quotes and used to represent text.  Its contents **cannot be changed** once formed, however characters can be accessed via slicing or indexing.  In contrast, a list is a **mutable collection** that may include any kind of item, including strings, and permits changes such as adding, deleting, or altering components.  Both allow for iteration and indexing, however strings are better suited for text manipulation while lists are more adaptable for dynamic data."
      ],
      "metadata": {
        "id": "M5BAK1AEpKeF"
      }
    },
    {
      "cell_type": "markdown",
      "source": [
        "7.  How do tuples ensure data integrity in Python?\n",
        ">> Because tuples are **immutable**—that is, their contents cannot be altered once they are created—they guarantee data integrity in Python.  Tuples are perfect for storing **fixed configurations, constants, or secure data** because of their immutability, which guards against unintentional mutation.  Tuples are **thread-safe** since they cannot be changed, and if they only include hashable objects, they may be used as **dictionary keys** or as elements in sets.  Their fixed structure reduces faults and improves dependability by ensuring that the data stays consistent throughout the application."
      ],
      "metadata": {
        "id": "faGqKnhXpbSp"
      }
    },
    {
      "cell_type": "markdown",
      "source": [
        "8.  What is a hash table, and how does it relate to dictionaries in Python?\n",
        ">> A hash table is a type of data structure that allows for **quick data retrieval** by storing key-value pairs and utilizing a **hash function** to calculate an index for each key.  In Python, dictionaries are implemented using hash tables, meaning each key is hashed to determine where its value is stored in memory.  For the majority of operations, this permits **constant-time access**, insertion, and deletion.  Values may be of any kind, but keys must be **immutable and hashable**.  The hash table structure ensures efficient performance even with large datasets, and from Python 3.7 onward, dictionaries also **preserve insertion order**, combining speed with predictability."
      ],
      "metadata": {
        "id": "ohO-lOqmpmBo"
      }
    },
    {
      "cell_type": "markdown",
      "source": [
        "9. Can lists contain different data types in Python?\n",
        ">> Yes, Python lists can hold elements of different data types—like integers, strings, floats, booleans, or even other lists and dictionaries. This flexibility allows you to aggregate heterogeneous data in a single container, making lists ideal for dynamic and loosely structured datasets."
      ],
      "metadata": {
        "id": "2eqAXCPRp0bw"
      }
    },
    {
      "cell_type": "markdown",
      "source": [
        "10.  Explain why strings are immutable in Python?\n",
        ">> Strings are immutable in Python to ensure memory efficiency, thread safety, and reliable behavior when used as dictionary keys. Any modification creates a new string object, which prevents accidental changes and allows Python to optimize performance through internal caching and reuse."
      ],
      "metadata": {
        "id": "doU_MUM0qFGd"
      }
    },
    {
      "cell_type": "markdown",
      "source": [
        "11. What advantages do dictionaries offer over lists for certain tasks?\n",
        ">>Dictionaries offer faster lookups (O(1) time) using keys, while lists require linear search (O(n)). They’re ideal for structured data with unique identifiers, like user profiles or configuration settings. Dictionaries also prevent duplicate keys and allow clearer, more semantic access to values."
      ],
      "metadata": {
        "id": "-phpcTIkqK5_"
      }
    },
    {
      "cell_type": "markdown",
      "source": [
        "12.  Describe a scenario where using a tuple would be preferable over a list?\n",
        ">>Use tuples when you need fixed, unchangeable data—like coordinates, RGB values, or function return values. Their immutability ensures data integrity, and they’re faster and more memory-efficient than lists. Tuples can also be used as dictionary keys, unlike lists."
      ],
      "metadata": {
        "id": "p88EuikSvuvq"
      }
    },
    {
      "cell_type": "markdown",
      "source": [
        "13. How do sets handle duplicate values in Python?\n",
        ">>Sets in Python automatically eliminate duplicates. When you add an element that already exists, the set ignores it. This makes sets ideal for deduplication tasks, ensuring that only unique values are stored without manual checks."
      ],
      "metadata": {
        "id": "pxisD-PKv25C"
      }
    },
    {
      "cell_type": "markdown",
      "source": [
        "14.  How does the “in” keyword work differently for lists and dictionaries?\n",
        ">>In lists, the in keyword checks for the presence of a value by scanning each element—O(n) time. In dictionaries, it checks for the presence of a key using hashing—O(1) time. So, in is much faster and more efficient with dictionaries."
      ],
      "metadata": {
        "id": "PI_q2G_Rv9dZ"
      }
    },
    {
      "cell_type": "markdown",
      "source": [
        "15. Can you modify the elements of a tuple? Explain why or why not?\n",
        ">>No, tuples are immutable—you cannot change, add, or remove elements after creation. To \"modify\" a tuple, you must create a new one. This immutability helps preserve data integrity and allows tuples to be used as dictionary keys."
      ],
      "metadata": {
        "id": "hn1nKnY-v9WF"
      }
    },
    {
      "cell_type": "markdown",
      "source": [
        "16.  What is a nested dictionary, and give an example of its use case?\n",
        ">>A nested dictionary is a dictionary where values are themselves dictionaries. It’s useful for representing hierarchical data.\n",
        ">>example :\n",
        "employeeID = {\n",
        "  \"101\": {\"name\": \"Amit\", \"Dept.\": \"Marketing\"},\n",
        "  \"102\": {\"name\": \"Sara\", \"Dept.\": \"Finance\"}\n",
        "}"
      ],
      "metadata": {
        "id": "I38GgDCCv9A9"
      }
    },
    {
      "cell_type": "markdown",
      "source": [
        "17. Describe the time complexity of accessing elements in a dictionary?\n",
        ">>Accessing a value by key in a Python dictionary has average time complexity of O(1), thanks to its hash table implementation. This allows for fast retrieval regardless of dictionary size, unless hash collisions occur, which are rare."
      ],
      "metadata": {
        "id": "nMVYJMpRwjs3"
      }
    },
    {
      "cell_type": "markdown",
      "source": [
        "18.  In what situations are lists preferred over dictionaries?\n",
        ">>Lists are better when order matters, or when you need to access elements by position. They’re ideal for sequences, stacks, queues, and simple collections without key-value relationships. Lists also use less memory and are easier to iterate sequentially."
      ],
      "metadata": {
        "id": "JsbbsrFtwrQ7"
      }
    },
    {
      "cell_type": "markdown",
      "source": [
        "19. Why are dictionaries considered unordered, and how does that affect data retrieval?\n",
        ">> Historically, dictionaries didn’t preserve insertion order, focusing on fast key-based access. Since Python 3.7, they do maintain order, but they’re still considered unordered because their primary design is for mapping keys to values, not for sequential data."
      ],
      "metadata": {
        "id": "rmesSuQ6wxEi"
      }
    },
    {
      "cell_type": "markdown",
      "source": [
        "20.  Explain the difference between a list and a dictionary in terms of data retrieval?\n",
        ">>Lists retrieve data by index (e.g., my_list[2]), while dictionaries retrieve data by key (e.g., my_dict[\"name\"]). Lists are ideal for ordered data; dictionaries excel at fast lookups and structured mappings. Dictionary access is typically faster and more semantic."
      ],
      "metadata": {
        "id": "npPtHxz1w5tZ"
      }
    },
    {
      "cell_type": "code",
      "source": [],
      "metadata": {
        "id": "UrsfXcdCxOOs"
      },
      "execution_count": null,
      "outputs": []
    },
    {
      "cell_type": "markdown",
      "source": [
        "#PRACTICAL PART\n"
      ],
      "metadata": {
        "id": "dKqH0f0VxO6f"
      }
    },
    {
      "cell_type": "code",
      "source": [
        "#Write a code to create a string with your name and print it.\n",
        "\n",
        "my_name = \"Vaibhav\"\n",
        "print(my_name)\n",
        "type(my_name)"
      ],
      "metadata": {
        "colab": {
          "base_uri": "https://localhost:8080/"
        },
        "id": "8idnRDFFxp6m",
        "outputId": "b43b5937-a53f-4ed2-d639-06e2d16072dc"
      },
      "execution_count": 1,
      "outputs": [
        {
          "output_type": "stream",
          "name": "stdout",
          "text": [
            "Vaibhav\n"
          ]
        },
        {
          "output_type": "execute_result",
          "data": {
            "text/plain": [
              "str"
            ]
          },
          "metadata": {},
          "execution_count": 1
        }
      ]
    },
    {
      "cell_type": "code",
      "source": [
        " #Write a code to find the length of the string \"Hello World\"\n",
        "\n",
        " openning = \"Hello World\"\n",
        " print(len(openning))"
      ],
      "metadata": {
        "colab": {
          "base_uri": "https://localhost:8080/"
        },
        "id": "pUZs0YClyDJP",
        "outputId": "f8f5e846-969a-4435-8662-0e0cac14c2b5"
      },
      "execution_count": 3,
      "outputs": [
        {
          "output_type": "stream",
          "name": "stdout",
          "text": [
            "11\n"
          ]
        }
      ]
    },
    {
      "cell_type": "code",
      "source": [
        "#Write a code to slice the first 3 characters from the string \"Python Programming\"\n",
        "\n",
        "string = \"Python Programming\"\n",
        "print(string[0:3])"
      ],
      "metadata": {
        "colab": {
          "base_uri": "https://localhost:8080/"
        },
        "id": "-Rog2CpIyKvy",
        "outputId": "d36ec354-8a79-46ed-84aa-5dcdf1bb8c23"
      },
      "execution_count": 5,
      "outputs": [
        {
          "output_type": "stream",
          "name": "stdout",
          "text": [
            "Pyt\n"
          ]
        }
      ]
    },
    {
      "cell_type": "code",
      "source": [
        "# Write a code to convert the string \"hello\" to uppercase.\n",
        "\n",
        "string = \"hello\"\n",
        "print(string.upper())"
      ],
      "metadata": {
        "colab": {
          "base_uri": "https://localhost:8080/"
        },
        "id": "aEv73vUzygz9",
        "outputId": "ece07880-3daf-4d88-a751-84d16a4999ad"
      },
      "execution_count": 6,
      "outputs": [
        {
          "output_type": "stream",
          "name": "stdout",
          "text": [
            "HELLO\n"
          ]
        }
      ]
    },
    {
      "cell_type": "code",
      "source": [
        "# Write a code to replace the word \"apple\" with \"orange\" in the string \"I like apple\"\n",
        "\n",
        "string = \"I like apples\"\n",
        "print(string.replace(\"apples\", \"oranges\"))"
      ],
      "metadata": {
        "colab": {
          "base_uri": "https://localhost:8080/"
        },
        "id": "5jCe7sN-ytjN",
        "outputId": "72bd2b8b-5616-47d4-9681-de24f0dce3a3"
      },
      "execution_count": 9,
      "outputs": [
        {
          "output_type": "stream",
          "name": "stdout",
          "text": [
            "I like oranges\n"
          ]
        }
      ]
    },
    {
      "cell_type": "code",
      "source": [
        "#Write a code to create a list with numbers 1 to 5 and print it.\n",
        "\n",
        "my_list = [1, 2, 3, 4, 5]\n",
        "print(my_list)"
      ],
      "metadata": {
        "colab": {
          "base_uri": "https://localhost:8080/"
        },
        "id": "WKecD5HnzBJI",
        "outputId": "12e7cc27-28c6-4a39-81df-796d97803701"
      },
      "execution_count": 15,
      "outputs": [
        {
          "output_type": "stream",
          "name": "stdout",
          "text": [
            "[1, 2, 3, 4, 5]\n"
          ]
        }
      ]
    },
    {
      "cell_type": "code",
      "source": [
        "#Write a code to append the number 10 to the list [1, 2, 3, 4].\n",
        "\n",
        "my_list = [1, 2, 3, 4]\n",
        "my_list.append(10)\n",
        "print(my_list)"
      ],
      "metadata": {
        "colab": {
          "base_uri": "https://localhost:8080/"
        },
        "id": "WafvMGq5zP-z",
        "outputId": "c95d178c-d94d-4599-a345-4d08d91e5e21"
      },
      "execution_count": 16,
      "outputs": [
        {
          "output_type": "stream",
          "name": "stdout",
          "text": [
            "[1, 2, 3, 4, 10]\n"
          ]
        }
      ]
    },
    {
      "cell_type": "code",
      "source": [
        "#Write a code to remove the number 3 from the list [1, 2, 3, 4, 5].\n",
        "\n",
        "my_list = [1, 2, 3, 4, 5]\n",
        "my_list.remove(3)\n",
        "print(my_list)"
      ],
      "metadata": {
        "colab": {
          "base_uri": "https://localhost:8080/"
        },
        "id": "0IHQHLWKzfpz",
        "outputId": "6e698c8e-9d12-47d2-95ab-82adb3513d2c"
      },
      "execution_count": 17,
      "outputs": [
        {
          "output_type": "stream",
          "name": "stdout",
          "text": [
            "[1, 2, 4, 5]\n"
          ]
        }
      ]
    },
    {
      "cell_type": "code",
      "source": [
        "#Write a code to access the second element in the list ['a', 'b', 'c', 'd'].\n",
        "\n",
        "my_list = ['a', 'b', 'c', 'd']\n",
        "print(my_list[1])"
      ],
      "metadata": {
        "colab": {
          "base_uri": "https://localhost:8080/"
        },
        "id": "m6gEG6p4zjg-",
        "outputId": "c8ecc9a4-029c-43c7-d0c9-4a184d9b4392"
      },
      "execution_count": 18,
      "outputs": [
        {
          "output_type": "stream",
          "name": "stdout",
          "text": [
            "b\n"
          ]
        }
      ]
    },
    {
      "cell_type": "code",
      "source": [
        "#Write a code to reverse the list [10, 20, 30, 40, 50].\n",
        "\n",
        "my_list = [10, 20, 30, 40, 50]\n",
        "print(my_list[::-1])"
      ],
      "metadata": {
        "colab": {
          "base_uri": "https://localhost:8080/"
        },
        "id": "H4hTSceTzoKh",
        "outputId": "70b2a757-e873-4b67-ddb5-fd2062ce7416"
      },
      "execution_count": 19,
      "outputs": [
        {
          "output_type": "stream",
          "name": "stdout",
          "text": [
            "[50, 40, 30, 20, 10]\n"
          ]
        }
      ]
    },
    {
      "cell_type": "code",
      "source": [
        "#Write a code to create a tuple with the elements 100, 200, 300 and print it.\n",
        "\n",
        "tpl = (100, 200, 300)\n",
        "print(tpl)\n",
        "type(tpl)"
      ],
      "metadata": {
        "colab": {
          "base_uri": "https://localhost:8080/"
        },
        "id": "tcBjLBpZztpp",
        "outputId": "3fa573be-8f53-4baf-bf50-a61722f08380"
      },
      "execution_count": 21,
      "outputs": [
        {
          "output_type": "stream",
          "name": "stdout",
          "text": [
            "(100, 200, 300)\n"
          ]
        },
        {
          "output_type": "execute_result",
          "data": {
            "text/plain": [
              "tuple"
            ]
          },
          "metadata": {},
          "execution_count": 21
        }
      ]
    },
    {
      "cell_type": "code",
      "source": [
        "#Write a code to access the second-to-last element of the tuple ('red', 'green', 'blue', 'yellow').\n",
        "\n",
        "tpl = ('red', 'green', 'blue', 'yellow')\n",
        "print(len(tpl))\n",
        "print(tpl[-2])\n",
        "print(tpl[2])"
      ],
      "metadata": {
        "colab": {
          "base_uri": "https://localhost:8080/"
        },
        "id": "LPIUZL76z1Xt",
        "outputId": "c41df658-9c43-4eb8-f66d-6a777615c853"
      },
      "execution_count": 26,
      "outputs": [
        {
          "output_type": "stream",
          "name": "stdout",
          "text": [
            "4\n",
            "blue\n",
            "blue\n"
          ]
        }
      ]
    },
    {
      "cell_type": "code",
      "source": [
        "#Write a code to find the minimum number in the tuple (10, 20, 5, 15).\n",
        "\n",
        "tpl = (10, 20, 5, 15)\n",
        "print(min(tpl))"
      ],
      "metadata": {
        "colab": {
          "base_uri": "https://localhost:8080/"
        },
        "id": "EwYpXCnBz83G",
        "outputId": "756be298-b052-4d33-fb8a-8583552df552"
      },
      "execution_count": 27,
      "outputs": [
        {
          "output_type": "stream",
          "name": "stdout",
          "text": [
            "5\n"
          ]
        }
      ]
    },
    {
      "cell_type": "code",
      "source": [
        "#Write a code to find the index of the element \"cat\" in the tuple ('dog', 'cat', 'rabbit').\n",
        "\n",
        "tpl = ('dog', 'cat', 'rabbit')\n",
        "print(tpl.index('cat'))"
      ],
      "metadata": {
        "colab": {
          "base_uri": "https://localhost:8080/"
        },
        "id": "po59SqB70RXQ",
        "outputId": "31ce0dc4-36d7-4c59-a8eb-be67c6948ab3"
      },
      "execution_count": 28,
      "outputs": [
        {
          "output_type": "stream",
          "name": "stdout",
          "text": [
            "1\n"
          ]
        }
      ]
    },
    {
      "cell_type": "code",
      "source": [
        "#Write a code to create a tuple containing three different fruits and check if \"kiwi\" is in it.\n",
        "\n",
        "fruits = ('apple', 'banana', 'orange')\n",
        "print('kiwi' in fruits)\n",
        "#also that tuples aren't mutable"
      ],
      "metadata": {
        "colab": {
          "base_uri": "https://localhost:8080/"
        },
        "id": "QZqkf5FJ0VcQ",
        "outputId": "85cbf3c8-7d47-439a-b0f2-634224cb3e4c"
      },
      "execution_count": 29,
      "outputs": [
        {
          "output_type": "stream",
          "name": "stdout",
          "text": [
            "False\n"
          ]
        }
      ]
    },
    {
      "cell_type": "code",
      "source": [
        "#Write a code to create a set with the elements 'a', 'b', 'c' and print it.\n",
        "\n",
        "my_set = {'a', 'b', 'c'}\n",
        "print(my_set)\n",
        "type(my_set)"
      ],
      "metadata": {
        "colab": {
          "base_uri": "https://localhost:8080/"
        },
        "id": "Q_ktdv-x0aQj",
        "outputId": "a6549a48-7b17-4e7d-f984-e3e97b737317"
      },
      "execution_count": 30,
      "outputs": [
        {
          "output_type": "stream",
          "name": "stdout",
          "text": [
            "{'c', 'b', 'a'}\n"
          ]
        },
        {
          "output_type": "execute_result",
          "data": {
            "text/plain": [
              "set"
            ]
          },
          "metadata": {},
          "execution_count": 30
        }
      ]
    },
    {
      "cell_type": "code",
      "source": [
        "#Write a code to clear all elements from the set {1, 2, 3, 4, 5}.\n",
        "\n",
        "my_set = {1, 2, 3, 4, 5}\n",
        "my_set.clear()\n",
        "print(my_set)\n"
      ],
      "metadata": {
        "colab": {
          "base_uri": "https://localhost:8080/"
        },
        "id": "WvrxQaqn0kHj",
        "outputId": "1908e516-0de2-4090-ba18-137338990914"
      },
      "execution_count": 31,
      "outputs": [
        {
          "output_type": "stream",
          "name": "stdout",
          "text": [
            "set()\n"
          ]
        }
      ]
    },
    {
      "cell_type": "code",
      "source": [
        "#Write a code to remove the element 4 from the set {1, 2, 3, 4}.\n",
        "\n",
        "my_set = {1, 2, 3, 4}\n",
        "my_set.remove(4)\n",
        "print(my_set)"
      ],
      "metadata": {
        "colab": {
          "base_uri": "https://localhost:8080/"
        },
        "id": "lMUKRvoA0r8P",
        "outputId": "8030ca6d-c4a6-44ee-ce15-e5f5fdd0d610"
      },
      "execution_count": 34,
      "outputs": [
        {
          "output_type": "stream",
          "name": "stdout",
          "text": [
            "{1, 2, 3}\n"
          ]
        }
      ]
    },
    {
      "cell_type": "code",
      "source": [
        "#Write a code to find the union of two sets {1, 2, 3} and {3, 4, 5}.\n",
        "\n",
        "set1 = {1, 2, 3}\n",
        "set2 = {3, 4, 5}\n",
        "print(set1.union(set2))"
      ],
      "metadata": {
        "colab": {
          "base_uri": "https://localhost:8080/"
        },
        "id": "GYG562ig0zCd",
        "outputId": "05e53210-b969-47ea-8f00-80daf492d9d1"
      },
      "execution_count": 35,
      "outputs": [
        {
          "output_type": "stream",
          "name": "stdout",
          "text": [
            "{1, 2, 3, 4, 5}\n"
          ]
        }
      ]
    },
    {
      "cell_type": "code",
      "source": [
        "#Write a code to find the intersection of two sets {1, 2, 3} and {2, 3, 4}.\n",
        "\n",
        "set1 = {1, 2, 3}\n",
        "set2 = {2, 3, 4}\n",
        "print(set1.intersection(set2))"
      ],
      "metadata": {
        "colab": {
          "base_uri": "https://localhost:8080/"
        },
        "id": "m2mWMavq05vS",
        "outputId": "a335f922-a246-4f18-c1b6-ec59004ce9af"
      },
      "execution_count": 36,
      "outputs": [
        {
          "output_type": "stream",
          "name": "stdout",
          "text": [
            "{2, 3}\n"
          ]
        }
      ]
    },
    {
      "cell_type": "code",
      "source": [
        "#Write a code to create a dictionary with the keys \"name\", \"age\", and \"city\", and print it.\n",
        "\n",
        "my_dicton = {\"name\": \"Vaibhav\", \"age\": 20, \"city\": \"Mumbai\"}\n",
        "print(my_dicton)\n",
        "type(my_dicton)"
      ],
      "metadata": {
        "colab": {
          "base_uri": "https://localhost:8080/"
        },
        "id": "KnCyjQNK1MIn",
        "outputId": "258e77bd-9afc-4afa-a471-35e948bea559"
      },
      "execution_count": 37,
      "outputs": [
        {
          "output_type": "stream",
          "name": "stdout",
          "text": [
            "{'name': 'Vaibhav', 'age': 20, 'city': 'Mumbai'}\n"
          ]
        },
        {
          "output_type": "execute_result",
          "data": {
            "text/plain": [
              "dict"
            ]
          },
          "metadata": {},
          "execution_count": 37
        }
      ]
    },
    {
      "cell_type": "code",
      "source": [
        "#Write a code to add a new key-value pair \"country\": \"USA\" to the dictionary {'name': 'John', 'age': 25}.\n",
        "\n",
        "my_dicton = {'name': 'John', 'age': 25}\n",
        "print(my_dicton)\n",
        "my_dicton[\"country\"] = \"USA\"\n",
        "print(my_dicton)"
      ],
      "metadata": {
        "colab": {
          "base_uri": "https://localhost:8080/"
        },
        "id": "NEWnqWVx1R-x",
        "outputId": "7f670fd6-b9f1-408b-a46a-16625d4e4743"
      },
      "execution_count": 39,
      "outputs": [
        {
          "output_type": "stream",
          "name": "stdout",
          "text": [
            "{'name': 'John', 'age': 25}\n",
            "{'name': 'John', 'age': 25, 'country': 'USA'}\n"
          ]
        }
      ]
    },
    {
      "cell_type": "code",
      "source": [
        "#Write a code to access the value associated with the key \"name\" in the dictionary {'name': 'Alice', 'age': 30}.\n",
        "\n",
        "my_dicton = {'name': 'Alice', 'age': 30}\n",
        "print(my_dicton[\"name\"])"
      ],
      "metadata": {
        "colab": {
          "base_uri": "https://localhost:8080/"
        },
        "id": "RVVTC7dq1Zr8",
        "outputId": "af95f4fe-e97b-44a6-811d-852faf7daee6"
      },
      "execution_count": 40,
      "outputs": [
        {
          "output_type": "stream",
          "name": "stdout",
          "text": [
            "Alice\n"
          ]
        }
      ]
    },
    {
      "cell_type": "code",
      "source": [
        "#Write a code to remove the key \"age\" from the dictionary {'name': 'Bob', 'age': 22, 'city': 'New York'}.\n",
        "\n",
        "my_dicton = {'name': 'Bob', 'age': 22, 'city': 'New York'}\n",
        "print(my_dicton)\n",
        "my_dicton.pop(\"age\")\n",
        "print(my_dicton)"
      ],
      "metadata": {
        "colab": {
          "base_uri": "https://localhost:8080/"
        },
        "id": "xqw8f5GQ1hi7",
        "outputId": "3aef129b-a0bf-45a7-b67d-3e2d5a5f311b"
      },
      "execution_count": 42,
      "outputs": [
        {
          "output_type": "stream",
          "name": "stdout",
          "text": [
            "{'name': 'Bob', 'age': 22, 'city': 'New York'}\n",
            "{'name': 'Bob', 'city': 'New York'}\n"
          ]
        }
      ]
    },
    {
      "cell_type": "code",
      "source": [
        "#Write a code to check if the key \"city\" exists in the dictionary {'name': 'Alice', 'city': 'Paris'}.\n",
        "\n",
        "my_dicton = {'name': 'Alice', 'city': 'Paris'}\n",
        "print(\"city\" in my_dicton)"
      ],
      "metadata": {
        "colab": {
          "base_uri": "https://localhost:8080/"
        },
        "id": "rhC2QyZy1oZb",
        "outputId": "342920c3-91bc-477c-8f80-8ee364b6f421"
      },
      "execution_count": 43,
      "outputs": [
        {
          "output_type": "stream",
          "name": "stdout",
          "text": [
            "True\n"
          ]
        }
      ]
    },
    {
      "cell_type": "code",
      "source": [
        "#Write a code to create a list, a tuple, and a dictionary, and print them all.\n",
        "\n",
        "my_list = [1, 2.3, True, \"Apple, Oranges\"]\n",
        "print(my_list)\n",
        "\n",
        "\n",
        "my_tuple = (1, 2, 3, 4)\n",
        "print(my_tuple)\n",
        "\n",
        "\n",
        "my_dicton = {\"name\": \"Vaibhav\", \"age\": 20, \"city\": \"Mumbai\"}\n",
        "print(my_dicton)\n",
        "\n",
        "type(my_dicton)\n",
        "\n",
        "type(my_list)\n",
        "\n",
        "type(my_tuple)"
      ],
      "metadata": {
        "colab": {
          "base_uri": "https://localhost:8080/"
        },
        "id": "gfWg-Cif1w6W",
        "outputId": "81e5ed1f-372f-4206-c584-c8dc38019e41"
      },
      "execution_count": 50,
      "outputs": [
        {
          "output_type": "stream",
          "name": "stdout",
          "text": [
            "[1, 2.3, True, 'Apple, Oranges']\n",
            "(1, 2, 3, 4)\n",
            "{'name': 'Vaibhav', 'age': 20, 'city': 'Mumbai'}\n"
          ]
        },
        {
          "output_type": "execute_result",
          "data": {
            "text/plain": [
              "tuple"
            ]
          },
          "metadata": {},
          "execution_count": 50
        }
      ]
    },
    {
      "cell_type": "code",
      "source": [
        "#Write a code to create a list of 5 random numbers between 1 and 100, sort it in ascending order, and print the result\n",
        "\n",
        "import random\n",
        "my_list = [random.randint(1, 100) for _ in range(5)]\n",
        "my_list.sort()\n",
        "print(my_list)"
      ],
      "metadata": {
        "colab": {
          "base_uri": "https://localhost:8080/"
        },
        "id": "0vWDBqRX19JG",
        "outputId": "c8e60837-7f2e-4c5b-9f34-22a41f56bfed"
      },
      "execution_count": 52,
      "outputs": [
        {
          "output_type": "stream",
          "name": "stdout",
          "text": [
            "[17, 37, 52, 91, 99]\n"
          ]
        }
      ]
    },
    {
      "cell_type": "code",
      "source": [
        "#Write a code to create a list with strings and print the element at the third index.\n",
        "\n",
        "my_fruit = [\"apple\", \"banana\", \"cherry\", \"date\", \"elderberry\"]\n",
        "print(my_fruit[2])"
      ],
      "metadata": {
        "colab": {
          "base_uri": "https://localhost:8080/"
        },
        "id": "K4O_VvGo2jCH",
        "outputId": "99ccb885-d14d-4de0-dd40-b009d4a0c17f"
      },
      "execution_count": 56,
      "outputs": [
        {
          "output_type": "stream",
          "name": "stdout",
          "text": [
            "cherry\n"
          ]
        }
      ]
    },
    {
      "cell_type": "code",
      "source": [
        "#Write a code to combine two dictionaries into one and print the result.\n",
        "\n",
        "my_dic= {\"empID\":\"AD542\", \"empDEPT.\": \"Finance\", \"empexp\":\"2 years\"}\n",
        "my_dict= {\"empNAME\": \"Vaibhav\", \"empAGE\": 33, \"empCITY\": \"Mumbai\"}\n",
        "my_dic.update(my_dict)\n",
        "print(my_dic)"
      ],
      "metadata": {
        "colab": {
          "base_uri": "https://localhost:8080/"
        },
        "id": "J_gkjynw21ZH",
        "outputId": "63343f75-9beb-469a-b130-e09f655f3e66"
      },
      "execution_count": 62,
      "outputs": [
        {
          "output_type": "stream",
          "name": "stdout",
          "text": [
            "{'empID': 'AD542', 'empDEPT.': 'Finance', 'empexp': '2 years', 'empNAME': 'Vaibhav', 'empAGE': 33, 'empCITY': 'Mumbai'}\n"
          ]
        }
      ]
    },
    {
      "cell_type": "code",
      "source": [
        "#Write a code to convert a list of strings into a set\n",
        "\n",
        "my_str = [\"apple\", \"banana\", \"cherry\"]\n",
        "my_newset = set(my_str)\n",
        "\n",
        "print(my_set)\n",
        "type(my_newset)"
      ],
      "metadata": {
        "colab": {
          "base_uri": "https://localhost:8080/"
        },
        "id": "QyfJJLFi3rhk",
        "outputId": "238d9e64-87b1-4dda-c2b9-220a53c668bb"
      },
      "execution_count": 66,
      "outputs": [
        {
          "output_type": "stream",
          "name": "stdout",
          "text": [
            "{'apple', 'cherry', 'banana'}\n"
          ]
        },
        {
          "output_type": "execute_result",
          "data": {
            "text/plain": [
              "set"
            ]
          },
          "metadata": {},
          "execution_count": 66
        }
      ]
    },
    {
      "cell_type": "code",
      "source": [],
      "metadata": {
        "id": "I_a4Q0Cq4aFE"
      },
      "execution_count": null,
      "outputs": []
    }
  ]
}